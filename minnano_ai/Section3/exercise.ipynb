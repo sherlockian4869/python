{
  "nbformat": 4,
  "nbformat_minor": 0,
  "metadata": {
    "colab": {
      "name": "exercise.ipynb",
      "provenance": [],
      "collapsed_sections": [],
      "include_colab_link": true
    },
    "kernelspec": {
      "name": "python3",
      "display_name": "Python 3"
    }
  },
  "cells": [
    {
      "cell_type": "markdown",
      "metadata": {
        "id": "view-in-github",
        "colab_type": "text"
      },
      "source": [
        "<a href=\"https://colab.research.google.com/github/sherlockian4869/python/blob/main/minnano_ai/Section3/exercise.ipynb\" target=\"_parent\"><img src=\"https://colab.research.google.com/assets/colab-badge.svg\" alt=\"Open In Colab\"/></a>"
      ]
    },
    {
      "cell_type": "markdown",
      "metadata": {
        "id": "fLN2ugJFee37"
      },
      "source": [
        "# 演習\n",
        "ネイピア数の数値を求めてみましょう。"
      ]
    },
    {
      "cell_type": "markdown",
      "metadata": {
        "id": "bLm1AxuOevaY"
      },
      "source": [
        "## ● ネイピア数の計算\n",
        "\n",
        "ネイピア数の数値は以下の通りです。  \n",
        "\n",
        "$$e = 2.71828 18284 59045 23536 02874 71352 …$$  \n",
        "  \n",
        "この値は以下の式における$n$の値を無限に大きくすることで求めることができます。  \n",
        "  \n",
        "$$ \\Bigl(1+\\frac{1}{n}\\Bigr)^n$$\n",
        "  \n",
        "この式における$n$の値を少しずつ大きくして、ネイピア数$e$に近づくことをコードで確認しましょう。\n",
        "\n",
        "\n"
      ]
    },
    {
      "cell_type": "code",
      "metadata": {
        "id": "dCJOSWYBe9pV"
      },
      "source": [
        "import numpy as np\n",
        "\n",
        "def approach_napier(n):\n",
        "    return (1 + 1/n)**n\n",
        "\n",
        "n_list = [2, 4, 10]  # このリストにさらに大きな数を追加する\n",
        "for n in n_list:\n",
        "    print(\"a_\"+ str(n) + \" =\", approach_napier(n))"
      ],
      "execution_count": null,
      "outputs": []
    },
    {
      "cell_type": "markdown",
      "metadata": {
        "id": "7MJ1jyo4hdK9"
      },
      "source": [
        "## 解答例\n",
        "以下は解答例です。どうしても手がかりがつかめない時のみ参考にしましょう。  "
      ]
    },
    {
      "cell_type": "code",
      "metadata": {
        "id": "8ZzC4uMzhsc_"
      },
      "source": [
        "import numpy as np\n",
        "\n",
        "def approach_napier(n):\n",
        "    return (1 + 1/n)**n\n",
        "\n",
        "n_list = [2, 4, 10, 100, 1000, 10000, 100000]  # このリストにさらに大きな数を追加する\n",
        "for n in n_list:\n",
        "    print(\"a_\"+ str(n) + \" =\", approach_napier(n))"
      ],
      "execution_count": null,
      "outputs": []
    }
  ]
}