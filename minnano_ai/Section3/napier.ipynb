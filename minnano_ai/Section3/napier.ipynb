{
  "nbformat": 4,
  "nbformat_minor": 0,
  "metadata": {
    "colab": {
      "name": "napier.ipynb",
      "provenance": [],
      "collapsed_sections": [],
      "include_colab_link": true
    },
    "kernelspec": {
      "name": "python3",
      "display_name": "Python 3"
    }
  },
  "cells": [
    {
      "cell_type": "markdown",
      "metadata": {
        "id": "view-in-github",
        "colab_type": "text"
      },
      "source": [
        "<a href=\"https://colab.research.google.com/github/sherlockian4869/python/blob/main/minnano_ai/Section3/napier.ipynb\" target=\"_parent\"><img src=\"https://colab.research.google.com/assets/colab-badge.svg\" alt=\"Open In Colab\"/></a>"
      ]
    },
    {
      "cell_type": "markdown",
      "metadata": {
        "id": "6lBYCIMcsRnW"
      },
      "source": [
        "# べき乗とネイピア数"
      ]
    },
    {
      "cell_type": "markdown",
      "metadata": {
        "id": "U9hZrHzkt80r"
      },
      "source": [
        "## ● べき乗\n",
        "同じ数を何度か掛け合わせることを、**べき乗**といいます。  \n",
        "例えば、\n",
        "$$3\\times 3\\times 3\\times 3\\times 3$$\n",
        "は、3を5つかけていますが、次のように短く表すことができます。\n",
        "\n",
        "$$3^5$$\n",
        "\n",
        "以下のコードは、次のべき乗の式をグラフに描画します。 \n",
        "$$ y = 2^x $$\n",
        "$$y = 3^x$$"
      ]
    },
    {
      "cell_type": "markdown",
      "metadata": {
        "id": "-mugXe-E3iGx"
      },
      "source": [
        "#### 数式の練習用\n",
        "$$y=2^x$$\n",
        "$$y=3^x$$"
      ]
    },
    {
      "cell_type": "code",
      "metadata": {
        "id": "k7uqYKmUnTcB"
      },
      "source": [
        "import numpy as np\n",
        "import matplotlib.pyplot as plt\n",
        "\n",
        "x = np.linspace(-2, 2)\n",
        "\n",
        "y_2 = 2**x\n",
        "y_3 = 3**x\n",
        "\n",
        "plt.plot(x, y_2, label=\"2^x\")\n",
        "plt.plot(x, y_3, label=\"3^x\")\n",
        "plt.legend()\n",
        "\n",
        "plt.xlabel(\"x\", size=14)\n",
        "plt.ylabel(\"y\", size=14)\n",
        "plt.grid()\n",
        "plt.show()"
      ],
      "execution_count": null,
      "outputs": []
    },
    {
      "cell_type": "code",
      "metadata": {
        "id": "OBx7Ws-J6sNl",
        "colab": {
          "base_uri": "https://localhost:8080/",
          "height": 283
        },
        "outputId": "fad86ba4-7624-48f1-f665-d1e1cfba74e4"
      },
      "source": [
        "# コード練習用\n",
        "import numpy as np\n",
        "import matplotlib.pyplot as plt\n",
        "\n",
        "x = np.linspace(-2, 2)\n",
        "\n",
        "y_2 = 2**x\n",
        "y_3 = 3**x\n",
        "\n",
        "plt.plot(x, y_2, label=\"2^x\")\n",
        "plt.plot(x, y_3, label=\"3^x\")\n",
        "plt.legend()\n",
        "\n",
        "plt.xlabel(\"x\", size=14)\n",
        "plt.ylabel(\"y\", size=14)\n",
        "plt.grid()\n",
        "plt.show()"
      ],
      "execution_count": null,
      "outputs": [
        {
          "output_type": "display_data",
          "data": {
            "image/png": "[encoded data removed]",
            "text/plain": [
              "<Figure size 432x288 with 1 Axes>"
            ]
          },
          "metadata": {
            "needs_background": "light"
          }
        }
      ]
    },
    {
      "cell_type": "markdown",
      "metadata": {
        "id": "Hj_ipLI16yr_"
      },
      "source": [
        "## ● ネイピア数\n",
        "**ネイピア数**$e$は、数学的にとても便利な性質を持った数です。  \n",
        "ネイピア数は、円周率$\\pi$のように無限に桁が続く小数です。\n",
        "\n",
        "$$e = 2.71828 18284 59045 23536 02874 71352 …$$ "
      ]
    },
    {
      "cell_type": "code",
      "metadata": {
        "id": "DDmyVt0hs4xT"
      },
      "source": [
        "import numpy as np\n",
        "\n",
        "print (np.e)"
      ],
      "execution_count": null,
      "outputs": []
    },
    {
      "cell_type": "code",
      "metadata": {
        "id": "8wg9g3b5Ym-V",
        "colab": {
          "base_uri": "https://localhost:8080/"
        },
        "outputId": "9964211a-4a81-4ecb-d9ee-fe03935f0261"
      },
      "source": [
        "# コード練習用\n",
        "import numpy as np\n",
        "\n",
        "print(np.e)"
      ],
      "execution_count": null,
      "outputs": [
        {
          "output_type": "stream",
          "name": "stdout",
          "text": [
            "2.718281828459045\n"
          ]
        }
      ]
    },
    {
      "cell_type": "markdown",
      "metadata": {
        "id": "DScx1umXYmWL"
      },
      "source": [
        "以下のコードは、ネイピア数のべき乗の式をグラフで描画します。\n",
        "\n",
        "$$y=e^x$$"
      ]
    },
    {
      "cell_type": "markdown",
      "metadata": {
        "id": "xL9WzZlyr87Q"
      },
      "source": [
        "#### 数式の練習用\n",
        "$$y=e^x$$"
      ]
    },
    {
      "cell_type": "code",
      "metadata": {
        "id": "Qr1nKE_zT1g0"
      },
      "source": [
        "import numpy as np\n",
        "import matplotlib.pyplot as plt\n",
        "\n",
        "x = np.linspace(-2, 2)\n",
        "e = np.e  # ネイピア数\n",
        "\n",
        "y_2 = 2**x  # 比較用\n",
        "y_e = e**x  # ネイピア数のべき乗\n",
        "y_3 = 3**x  # 比較用\n",
        "\n",
        "plt.plot(x, y_2, label=\"2^x\")\n",
        "plt.plot(x, y_e, label=\"e^x\")\n",
        "plt.plot(x, y_3, label=\"3^x\")\n",
        "plt.legend()\n",
        "\n",
        "plt.xlabel(\"x\", size=14)\n",
        "plt.ylabel(\"y\", size=14)\n",
        "plt.grid()\n",
        "plt.show()"
      ],
      "execution_count": null,
      "outputs": []
    },
    {
      "cell_type": "code",
      "metadata": {
        "id": "M2EkA_RCYwHU",
        "colab": {
          "base_uri": "https://localhost:8080/",
          "height": 283
        },
        "outputId": "470c9af7-68c5-4d33-fc82-c7ab25853d9a"
      },
      "source": [
        "# コード練習用\n",
        "import numpy as np\n",
        "import matplotlib.pyplot as plt\n",
        "\n",
        "x = np.linspace(-2, 2)\n",
        "e = np.e\n",
        "\n",
        "y_2 = 2**x  # 比較用\n",
        "y_e = e**x  # ネイピア数のべき乗\n",
        "y_3 = 3**x  # 比較用\n",
        "\n",
        "plt.plot(x, y_2, label=\"2^x\")\n",
        "plt.plot(x, y_e, label=\"e^x\")\n",
        "plt.plot(x, y_3, label=\"3^x\")\n",
        "plt.legend()\n",
        "\n",
        "plt.xlabel(\"x\", size=14)\n",
        "plt.ylabel(\"y\", size=14)\n",
        "plt.grid()\n",
        "plt.show()"
      ],
      "execution_count": null,
      "outputs": [
        {
          "output_type": "display_data",
          "data": {
            "image/png": "[encoded data removed]",
            "text/plain": [
              "<Figure size 432x288 with 1 Axes>"
            ]
          },
          "metadata": {
            "needs_background": "light"
          }
        }
      ]
    },
    {
      "cell_type": "markdown",
      "metadata": {
        "id": "3cjHyRP6bF0H"
      },
      "source": [
        " ネイピア数のべき乗には、  \n",
        "   \n",
        "**yの微小な変化 / xの微小な変化**  \n",
        "\n",
        "すなわち曲線の傾きが元の関数に近づいていくという性質があります。  \n",
        "以下のコードでは、これをグラフで描画することにより確認します。  "
      ]
    },
    {
      "cell_type": "code",
      "metadata": {
        "id": "k3gKPn_YT1sP"
      },
      "source": [
        "import matplotlib.pyplot as plt\n",
        "import numpy as np\n",
        "\n",
        "x = np.linspace(-2, 2)\n",
        "dx = 0.1  # xの微小な変化\n",
        "e = np.e  # ネイピア数\n",
        "\n",
        "y_e = e**x  # 元のべき乗の関数\n",
        "y_de = (e**(x+dx) - e**x) / dx  # yの微小な変化/xの微小な変化\n",
        "\n",
        "plt.plot(x, y_e, label=\"e^x\")\n",
        "plt.plot(x, y_de, label=\"de\")\n",
        "plt.legend()\n",
        "\n",
        "plt.xlabel(\"x\", size=14)\n",
        "plt.ylabel(\"y\", size=14)\n",
        "plt.grid()\n",
        "plt.show()"
      ],
      "execution_count": null,
      "outputs": []
    },
    {
      "cell_type": "code",
      "metadata": {
        "id": "NmNwKv6WYx1J",
        "colab": {
          "base_uri": "https://localhost:8080/",
          "height": 283
        },
        "outputId": "6af7018a-39a4-41dd-fc54-8a222a38e215"
      },
      "source": [
        "# コード練習用\n",
        "import matplotlib.pyplot as plt\n",
        "import numpy as np\n",
        "\n",
        "x = np.linspace(-2, 2)\n",
        "dx = 0.1  # xの微小な変化\n",
        "e = np.e  # ネイピア数\n",
        "\n",
        "y_e = e**x  # 元のべき乗の関数\n",
        "y_de = (e**(x+dx) - e**x) / dx  # yの微小な変化/xの微小な変化\n",
        "\n",
        "plt.plot(x, y_e, label=\"e^x\")\n",
        "plt.plot(x, y_de, label=\"de\")\n",
        "plt.legend()\n",
        "\n",
        "plt.xlabel(\"x\", size=14)\n",
        "plt.ylabel(\"y\", size=14)\n",
        "plt.grid()\n",
        "plt.show()"
      ],
      "execution_count": null,
      "outputs": [
        {
          "output_type": "display_data",
          "data": {
            "image/png": "[encoded data removed]",
            "text/plain": [
              "<Figure size 432x288 with 1 Axes>"
            ]
          },
          "metadata": {
            "needs_background": "light"
          }
        }
      ]
    }
  ]
}