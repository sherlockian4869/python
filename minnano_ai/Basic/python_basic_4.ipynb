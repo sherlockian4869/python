{
  "nbformat": 4,
  "nbformat_minor": 0,
  "metadata": {
    "colab": {
      "name": "python_basic_4.ipynb",
      "provenance": [],
      "authorship_tag": "ABX9TyOTbDBgjjI4YVramvwVCKCV",
      "include_colab_link": true
    },
    "kernelspec": {
      "name": "python3",
      "display_name": "Python 3"
    },
    "language_info": {
      "name": "python"
    }
  },
  "cells": [
    {
      "cell_type": "markdown",
      "metadata": {
        "id": "view-in-github",
        "colab_type": "text"
      },
      "source": [
        "<a href=\"https://colab.research.google.com/github/sherlockian4869/python/blob/main/minnano_ai/Basic/python_basic_4.ipynb\" target=\"_parent\"><img src=\"https://colab.research.google.com/assets/colab-badge.svg\" alt=\"Open In Colab\"/></a>"
      ]
    },
    {
      "cell_type": "code",
      "metadata": {
        "id": "wVKgpmqx67-f"
      },
      "source": [
        "class Calc:\n",
        "  def __init__(self, a):\n",
        "    self.a = a\n",
        "\n",
        "  def __call__(self, c):\n",
        "    print(self.a * c + c)\n",
        "\n",
        "  def add(self, b):\n",
        "    print(self.a + b)\n",
        "  \n",
        "  def multiply(self, b):\n",
        "    print(self.a * b)"
      ],
      "execution_count": null,
      "outputs": []
    },
    {
      "cell_type": "code",
      "metadata": {
        "colab": {
          "base_uri": "https://localhost:8080/"
        },
        "id": "yoV--sAnQ32m",
        "outputId": "ce92d8a8-69e6-4f90-bc3c-8c795f9fc78b"
      },
      "source": [
        "cl = Calc(3)\n",
        "cl.add(4)\n",
        "cl.multiply(4)"
      ],
      "execution_count": null,
      "outputs": [
        {
          "output_type": "stream",
          "name": "stdout",
          "text": [
            "7\n",
            "12\n"
          ]
        }
      ]
    },
    {
      "cell_type": "code",
      "metadata": {
        "colab": {
          "base_uri": "https://localhost:8080/"
        },
        "id": "kcVAgOswRiNT",
        "outputId": "6ec84a1c-b08f-4737-d051-3075eb5dc1b9"
      },
      "source": [
        "cl = Calc(3)\n",
        "\n",
        "cl(5)"
      ],
      "execution_count": null,
      "outputs": [
        {
          "output_type": "stream",
          "name": "stdout",
          "text": [
            "20\n"
          ]
        }
      ]
    }
  ]
}