{
  "nbformat": 4,
  "nbformat_minor": 0,
  "metadata": {
    "colab": {
      "name": "python_basic_1~3.ipynb",
      "provenance": [],
      "authorship_tag": "ABX9TyPyAsWi8J8TqzNgkO5um3lR",
      "include_colab_link": true
    },
    "kernelspec": {
      "name": "python3",
      "display_name": "Python 3"
    },
    "language_info": {
      "name": "python"
    }
  },
  "cells": [
    {
      "cell_type": "markdown",
      "metadata": {
        "id": "view-in-github",
        "colab_type": "text"
      },
      "source": [
        "<a href=\"https://colab.research.google.com/github/sherlockian4869/python/blob/main/minnano_ai/Basic/python_basic_1~3.ipynb\" target=\"_parent\"><img src=\"https://colab.research.google.com/assets/colab-badge.svg\" alt=\"Open In Colab\"/></a>"
      ]
    },
    {
      "cell_type": "code",
      "metadata": {
        "colab": {
          "base_uri": "https://localhost:8080/"
        },
        "id": "MxeCXeJUjdrn",
        "outputId": "7d5ccd1f-e031-4d66-803e-af25a9ac3b07"
      },
      "source": [
        "print(\"Hello Workd!\")"
      ],
      "execution_count": null,
      "outputs": [
        {
          "output_type": "stream",
          "name": "stdout",
          "text": [
            "Hello Workd!\n"
          ]
        }
      ]
    },
    {
      "cell_type": "code",
      "metadata": {
        "colab": {
          "base_uri": "https://localhost:8080/"
        },
        "id": "5p5fu6O5ju56",
        "outputId": "dd902c54-d014-4dd9-d0aa-81611e0607a4"
      },
      "source": [
        "a = 3\n",
        "b = 4\n",
        "print(a + b)"
      ],
      "execution_count": null,
      "outputs": [
        {
          "output_type": "stream",
          "name": "stdout",
          "text": [
            "7\n"
          ]
        }
      ]
    },
    {
      "cell_type": "markdown",
      "metadata": {
        "id": "UHJeiEmBnJ7u"
      },
      "source": [
        "リスト"
      ]
    },
    {
      "cell_type": "code",
      "metadata": {
        "colab": {
          "base_uri": "https://localhost:8080/"
        },
        "id": "dxUVZc5JmYoA",
        "outputId": "566e2147-6bce-46c8-d706-4b307f1be0c1"
      },
      "source": [
        "a = [2011, 2012, 2013, 2014, 2015]\n",
        "print(a[0])\n",
        "print(a[1])"
      ],
      "execution_count": null,
      "outputs": [
        {
          "output_type": "stream",
          "name": "stdout",
          "text": [
            "2011\n",
            "2012\n"
          ]
        }
      ]
    },
    {
      "cell_type": "code",
      "metadata": {
        "colab": {
          "base_uri": "https://localhost:8080/"
        },
        "id": "siYH8ZaJmXIV",
        "outputId": "49180a36-aeed-445a-c0c9-cafddb9086d6"
      },
      "source": [
        "b = 2016\n",
        "c = [b, 2017, 20.1, \"Hello\", \"Hi\"]\n",
        "\n",
        "print(c[1:4])"
      ],
      "execution_count": null,
      "outputs": [
        {
          "output_type": "stream",
          "name": "stdout",
          "text": [
            "[2017, 20.1, 'Hello']\n"
          ]
        }
      ]
    },
    {
      "cell_type": "markdown",
      "metadata": {
        "id": "rBrd2fewntb1"
      },
      "source": [
        "二次元配列"
      ]
    },
    {
      "cell_type": "code",
      "metadata": {
        "colab": {
          "base_uri": "https://localhost:8080/"
        },
        "id": "XiZXAjFsnUD_",
        "outputId": "3593672e-3865-44a8-e251-540814d81041"
      },
      "source": [
        "d = [[1997, 1998, 1997], [2000, 2001, 2002]]\n",
        "print(d[0])\n",
        "print(d[0][1])"
      ],
      "execution_count": null,
      "outputs": [
        {
          "output_type": "stream",
          "name": "stdout",
          "text": [
            "[1997, 1998, 1997]\n",
            "1998\n"
          ]
        }
      ]
    },
    {
      "cell_type": "code",
      "metadata": {
        "colab": {
          "base_uri": "https://localhost:8080/"
        },
        "id": "kkH7j2IunwRm",
        "outputId": "aec0b4b1-eecd-4acc-8441-592dd370eb29"
      },
      "source": [
        "e = [\"Py\", 543.21, 79, \"thon\", [2018, 2019, 2020]]\n",
        "print(e)\n",
        "e[2] = 80\n",
        "print(e)\n",
        "e.append(\"aiueo\")\n",
        "print(e)"
      ],
      "execution_count": null,
      "outputs": [
        {
          "output_type": "stream",
          "name": "stdout",
          "text": [
            "['Py', 543.21, 79, 'thon', [2018, 2019, 2020]]\n",
            "['Py', 543.21, 80, 'thon', [2018, 2019, 2020]]\n",
            "['Py', 543.21, 80, 'thon', [2018, 2019, 2020], 'aiueo']\n"
          ]
        }
      ]
    },
    {
      "cell_type": "markdown",
      "metadata": {
        "id": "6Lx6yQINoUi4"
      },
      "source": [
        "タプル"
      ]
    },
    {
      "cell_type": "code",
      "metadata": {
        "colab": {
          "base_uri": "https://localhost:8080/"
        },
        "id": "i3wTec-RoTRY",
        "outputId": "b72048ff-8c36-428d-d407-9f4a40299e45"
      },
      "source": [
        "a = [2011, 2012, 2013]\n",
        "b = (2011, 2012, 2013)\n",
        "\n",
        "print(a)\n",
        "print(b)\n",
        "\n",
        "print(a[0])\n",
        "print(b[0])\n",
        "\n",
        "a[1] = 2016\n",
        "print(a)\n",
        "\n",
        "# b[1] = 2015\n",
        "# print(b)\n",
        "\n",
        "a.append(2015)\n",
        "print(a)\n",
        "\n",
        "# b.append(2015)\n",
        "# print(b)"
      ],
      "execution_count": null,
      "outputs": [
        {
          "output_type": "stream",
          "name": "stdout",
          "text": [
            "[2011, 2012, 2013]\n",
            "(2011, 2012, 2013)\n",
            "2011\n",
            "2011\n",
            "[2011, 2016, 2013]\n",
            "[2011, 2016, 2013, 2015]\n"
          ]
        }
      ]
    },
    {
      "cell_type": "code",
      "metadata": {
        "colab": {
          "base_uri": "https://localhost:8080/"
        },
        "id": "V67JZ9mRwQe9",
        "outputId": "529799fa-5630-427e-bede-c04212ec9a2c"
      },
      "source": [
        "a = {\"Taro\":1985, \"Hanako\":1986}\n",
        "print(a[\"Taro\"])\n",
        "\n",
        "a[\"Hanako\"] = 1987\n",
        "print(a)\n",
        "\n",
        "a[\"Jiro\"] = 1989\n",
        "print(a)"
      ],
      "execution_count": null,
      "outputs": [
        {
          "output_type": "stream",
          "name": "stdout",
          "text": [
            "1985\n",
            "{'Taro': 1985, 'Hanako': 1987}\n",
            "{'Taro': 1985, 'Hanako': 1987, 'Jiro': 1989}\n"
          ]
        }
      ]
    },
    {
      "cell_type": "code",
      "metadata": {
        "colab": {
          "base_uri": "https://localhost:8080/"
        },
        "id": "QKcycENRw171",
        "outputId": "ee0eb728-242f-4cbc-b983-51273b651c54"
      },
      "source": [
        "a = 5\n",
        "\n",
        "if a == 5:\n",
        "  print(\"3+4=\")\n",
        "  print(3+4)\n",
        "else:\n",
        "  print(\"3×4=\")\n",
        "  print(3*4)"
      ],
      "execution_count": null,
      "outputs": [
        {
          "output_type": "stream",
          "name": "stdout",
          "text": [
            "3+4=\n",
            "7\n"
          ]
        }
      ]
    },
    {
      "cell_type": "code",
      "metadata": {
        "colab": {
          "base_uri": "https://localhost:8080/"
        },
        "id": "NPBisgChxKPr",
        "outputId": "d9b9bad5-70d4-4154-be33-ca5d02691621"
      },
      "source": [
        "b = 4\n",
        "\n",
        "if b < 3:\n",
        "  print(\"Hello\")\n",
        "elif b < 5:\n",
        "  print(\"Hi\")\n",
        "else:\n",
        "  print(\"Yeah\")"
      ],
      "execution_count": null,
      "outputs": [
        {
          "output_type": "stream",
          "name": "stdout",
          "text": [
            "Hi\n"
          ]
        }
      ]
    },
    {
      "cell_type": "code",
      "metadata": {
        "colab": {
          "base_uri": "https://localhost:8080/"
        },
        "id": "T_LtGtJdxnNb",
        "outputId": "92b3dba9-8891-4f17-bae2-c50000263138"
      },
      "source": [
        "time = 20\n",
        "\n",
        "if time < 12:\n",
        "  print(\"Good morning\")\n",
        "elif time < 17:\n",
        "  print(\"Good afternoon\")\n",
        "elif time < 21:\n",
        "  print(\"Good evening\")\n",
        "else:\n",
        "  print(\"Good night\")"
      ],
      "execution_count": null,
      "outputs": [
        {
          "output_type": "stream",
          "name": "stdout",
          "text": [
            "Good evening\n"
          ]
        }
      ]
    },
    {
      "cell_type": "code",
      "metadata": {
        "colab": {
          "base_uri": "https://localhost:8080/"
        },
        "id": "92Qe7wjrx-78",
        "outputId": "6dc4b0b5-a154-4616-aea0-b0bac46dad30"
      },
      "source": [
        "a = [2001, 2002, 2003, 2004, 2005]\n",
        "\n",
        "for i in a:\n",
        "  print(i + 10)"
      ],
      "execution_count": null,
      "outputs": [
        {
          "output_type": "stream",
          "name": "stdout",
          "text": [
            "2011\n",
            "2012\n",
            "2013\n",
            "2014\n",
            "2015\n"
          ]
        }
      ]
    },
    {
      "cell_type": "code",
      "metadata": {
        "colab": {
          "base_uri": "https://localhost:8080/"
        },
        "id": "lFSsvKxLyKBN",
        "outputId": "8f4ba422-4355-4acc-f300-0f6ef77bfdf5"
      },
      "source": [
        "for i in range(0, 6):\n",
        "  print(i * 2)"
      ],
      "execution_count": null,
      "outputs": [
        {
          "output_type": "stream",
          "name": "stdout",
          "text": [
            "0\n",
            "2\n",
            "4\n",
            "6\n",
            "8\n",
            "10\n"
          ]
        }
      ]
    },
    {
      "cell_type": "code",
      "metadata": {
        "colab": {
          "base_uri": "https://localhost:8080/"
        },
        "id": "yBuFrulNyd5r",
        "outputId": "1c4cf4df-dbd6-436e-e1bb-17b19b9b917b"
      },
      "source": [
        "print(\"----10未満----\")\n",
        "\n",
        "a = 0\n",
        "while a < 10:\n",
        "  print(a)\n",
        "  a += 1\n",
        "\n",
        "print(\"----10と等しくない----\")\n",
        "b = 0\n",
        "while b != 10:\n",
        "  print(b)\n",
        "  b += 1"
      ],
      "execution_count": null,
      "outputs": [
        {
          "output_type": "stream",
          "name": "stdout",
          "text": [
            "----10未満----\n",
            "0\n",
            "1\n",
            "2\n",
            "3\n",
            "4\n",
            "5\n",
            "6\n",
            "7\n",
            "8\n",
            "9\n",
            "----10と等しくない----\n",
            "0\n",
            "1\n",
            "2\n",
            "3\n",
            "4\n",
            "5\n",
            "6\n",
            "7\n",
            "8\n",
            "9\n"
          ]
        }
      ]
    },
    {
      "cell_type": "code",
      "metadata": {
        "colab": {
          "base_uri": "https://localhost:8080/"
        },
        "id": "9n1AsaoozAEb",
        "outputId": "bc7d8ebf-6d58-487d-c1ed-957cbc52c900"
      },
      "source": [
        "a = []\n",
        "for i in range(0, 10):\n",
        "  if i % 2 == 0:\n",
        "    a.append(i)\n",
        "\n",
        "print(a)"
      ],
      "execution_count": null,
      "outputs": [
        {
          "output_type": "stream",
          "name": "stdout",
          "text": [
            "[0, 2, 4, 6, 8]\n"
          ]
        }
      ]
    },
    {
      "cell_type": "code",
      "metadata": {
        "colab": {
          "base_uri": "https://localhost:8080/"
        },
        "id": "Tdr2MWwuzTJ7",
        "outputId": "bf90a87f-d84b-4950-8a85-0ace708b8f57"
      },
      "source": [
        "def say_hello():\n",
        "  print(\"Hello World\")\n",
        "\n",
        "say_hello()"
      ],
      "execution_count": null,
      "outputs": [
        {
          "output_type": "stream",
          "name": "stdout",
          "text": [
            "Hello World\n"
          ]
        }
      ]
    },
    {
      "cell_type": "code",
      "metadata": {
        "colab": {
          "base_uri": "https://localhost:8080/"
        },
        "id": "G7rx53NJzj5k",
        "outputId": "5bc64a9a-aaad-4832-9b38-45f08187ba8a"
      },
      "source": [
        "def say_gm():\n",
        "  print(\"Good morning\")\n",
        "\n",
        "say_gm()\n",
        "say_gm()"
      ],
      "execution_count": null,
      "outputs": [
        {
          "output_type": "stream",
          "name": "stdout",
          "text": [
            "Good morning\n",
            "Good morning\n"
          ]
        }
      ]
    },
    {
      "cell_type": "code",
      "metadata": {
        "colab": {
          "base_uri": "https://localhost:8080/"
        },
        "id": "kMvhiqH91PjN",
        "outputId": "849fc47e-4fd1-41c3-e91e-e354ec1e48f6"
      },
      "source": [
        "def say_number(a):\n",
        "  print(a);\n",
        "\n",
        "say_number(123)"
      ],
      "execution_count": null,
      "outputs": [
        {
          "output_type": "stream",
          "name": "stdout",
          "text": [
            "123\n"
          ]
        }
      ]
    },
    {
      "cell_type": "code",
      "metadata": {
        "colab": {
          "base_uri": "https://localhost:8080/"
        },
        "id": "gOtaFa8X1iG6",
        "outputId": "f88bbd83-8e27-4969-ba3e-5fd61854f2ef"
      },
      "source": [
        "def add(a, b, c):\n",
        "  d = a + b + c\n",
        "  print(d)\n",
        "\n",
        "add(3, 4, 5)"
      ],
      "execution_count": null,
      "outputs": [
        {
          "output_type": "stream",
          "name": "stdout",
          "text": [
            "12\n"
          ]
        }
      ]
    },
    {
      "cell_type": "code",
      "metadata": {
        "colab": {
          "base_uri": "https://localhost:8080/"
        },
        "id": "AW8WA1S71yd6",
        "outputId": "48b90e68-540a-47ac-8603-39569fe28f19"
      },
      "source": [
        "def get_number():\n",
        "  a = 123\n",
        "  return a\n",
        "\n",
        "b = get_number()\n",
        "print(b)"
      ],
      "execution_count": null,
      "outputs": [
        {
          "output_type": "stream",
          "name": "stdout",
          "text": [
            "123\n"
          ]
        }
      ]
    },
    {
      "cell_type": "markdown",
      "metadata": {
        "id": "_dNK7sSU2F4q"
      },
      "source": [
        "def add(a, b):\n",
        "  c = a + b\n",
        "  return c\n",
        "\n",
        "result1 = add(3, 4)\n",
        "print(result1)\n",
        "\n",
        "result2 = add(7, 8)\n",
        "print(result2)"
      ]
    },
    {
      "cell_type": "code",
      "metadata": {
        "colab": {
          "base_uri": "https://localhost:8080/"
        },
        "id": "aVTtWUx02sep",
        "outputId": "1b2c8de7-8d31-400c-e3dd-c13fe0c8ef09"
      },
      "source": [
        "glob_1 = 123\n",
        "\n",
        "def show_number():\n",
        "  loc_1 = 456\n",
        "  print(glob_1, loc_1)\n",
        "\n",
        "show_number()"
      ],
      "execution_count": null,
      "outputs": [
        {
          "output_type": "stream",
          "name": "stdout",
          "text": [
            "123 456\n"
          ]
        }
      ]
    },
    {
      "cell_type": "markdown",
      "metadata": {
        "id": "3CfvfUis24uZ"
      },
      "source": [
        "glob_2  = 123\n",
        "\n",
        "def setNum():\n",
        "  loc_2 = 456\n",
        "\n",
        "setNum()\n",
        "print(glob_2, loc_2)"
      ]
    },
    {
      "cell_type": "code",
      "metadata": {
        "colab": {
          "base_uri": "https://localhost:8080/"
        },
        "id": "6P--TrwG3P5f",
        "outputId": "39bb3a4f-25d5-4643-e6a6-cfc01542e222"
      },
      "source": [
        "class Calc:\n",
        "  def add(self, a, b):\n",
        "    print(a + b)\n",
        "\n",
        "  def multiply(self, a, b):\n",
        "    print(a * b)\n",
        "\n",
        "cl = Calc()\n",
        "cl.add(2, 3)\n",
        "cl.multiply(4, 5)"
      ],
      "execution_count": null,
      "outputs": [
        {
          "output_type": "stream",
          "name": "stdout",
          "text": [
            "5\n",
            "20\n"
          ]
        }
      ]
    },
    {
      "cell_type": "code",
      "metadata": {
        "colab": {
          "base_uri": "https://localhost:8080/"
        },
        "id": "Tpfr1TzG32lU",
        "outputId": "9bc33538-81a1-4b79-9438-25de453dbb80"
      },
      "source": [
        "class Box:\n",
        "  def set_number(self, n1, n2):\n",
        "    self.num1 = n1\n",
        "    self.num2 = n2\n",
        "\n",
        "bx = Box()\n",
        "bx.set_number(123, 456)\n",
        "\n",
        "print(bx.num1)\n",
        "print(bx.num2)\n",
        "\n",
        "bx.num1 = 999\n",
        "print(bx.num1)"
      ],
      "execution_count": null,
      "outputs": [
        {
          "output_type": "stream",
          "name": "stdout",
          "text": [
            "123\n",
            "456\n",
            "999\n"
          ]
        }
      ]
    },
    {
      "cell_type": "code",
      "metadata": {
        "colab": {
          "base_uri": "https://localhost:8080/"
        },
        "id": "zKz97vKb4Y5J",
        "outputId": "3acf911d-aead-4129-9f4f-5d36cf248fbb"
      },
      "source": [
        "class Dog:\n",
        "  def set_dog(self, n, a):\n",
        "    self.name = n\n",
        "    self.age = a\n",
        "\n",
        "dog1 = Dog()\n",
        "dog1.set_dog(\"Pochi\", 5)\n",
        "\n",
        "dog2 = Dog()\n",
        "dog2.set_dog(\"Hachi\", 12)\n",
        "\n",
        "dogs = [dog1, dog2]\n",
        "for d in dogs:\n",
        "  print(d.name, d.age)"
      ],
      "execution_count": null,
      "outputs": [
        {
          "output_type": "stream",
          "name": "stdout",
          "text": [
            "Pochi 5\n",
            "Hachi 12\n"
          ]
        }
      ]
    },
    {
      "cell_type": "code",
      "metadata": {
        "id": "4P_Q8w0D49Ev"
      },
      "source": [
        "greetings = \"Good morning! Good night!\"\n",
        "\n",
        "with open(\"greetings.txt\", \"w\") as f:\n",
        "  f.write(greetings)"
      ],
      "execution_count": null,
      "outputs": []
    },
    {
      "cell_type": "code",
      "metadata": {
        "colab": {
          "base_uri": "https://localhost:8080/"
        },
        "id": "yu3nd17L5lgv",
        "outputId": "457dad33-425d-4bcf-ee71-2e98fc9190bc"
      },
      "source": [
        "with open(\"greetings.txt\", \"r\") as f:\n",
        "  print(f.read())"
      ],
      "execution_count": null,
      "outputs": [
        {
          "output_type": "stream",
          "name": "stdout",
          "text": [
            "Good morning! Good night!\n"
          ]
        }
      ]
    },
    {
      "cell_type": "code",
      "metadata": {
        "id": "VMq1og7y6oNW"
      },
      "source": [
        ""
      ],
      "execution_count": null,
      "outputs": []
    }
  ]
}