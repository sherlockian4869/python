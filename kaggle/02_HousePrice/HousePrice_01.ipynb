{
  "nbformat": 4,
  "nbformat_minor": 0,
  "metadata": {
    "colab": {
      "name": "HousePrice_01.ipynb",
      "provenance": [],
      "authorship_tag": "ABX9TyPotWDzgWREX7ANklVHv6zq",
      "include_colab_link": true
    },
    "kernelspec": {
      "name": "python3",
      "display_name": "Python 3"
    },
    "language_info": {
      "name": "python"
    }
  },
  "cells": [
    {
      "cell_type": "markdown",
      "metadata": {
        "id": "view-in-github",
        "colab_type": "text"
      },
      "source": [
        "<a href=\"https://colab.research.google.com/github/sherlockian4869/python/blob/main/kaggle/HousePrice/HousePrice_01.ipynb\" target=\"_parent\"><img src=\"https://colab.research.google.com/assets/colab-badge.svg\" alt=\"Open In Colab\"/></a>"
      ]
    },
    {
      "cell_type": "markdown",
      "source": [
        "## House Priceをやってみた  \n",
        "- [住宅価格を予測する〜Kaggle House Priceチュートリアルに挑む](https://yolo-kiyoshi.com/2018/12/17/post-1003/)\n",
        "- [KaggleのHouse Prices - Advanced Regression Techniquesをgoogle colabで動作させる手順](https://qiita.com/TsuyoshiMorita/items/ac82488e9d389e4e61b6)\n",
        "- [kaggle house prices 日本語訳](https://www.kaggle.com/katotaka/prediction-house-prices-eda)\n",
        "- [【Kaggle】「House Prices」をぱくりながらやってみた](https://qiita.com/muscle_nishimi/items/901ed94f3cdf1c8d893a)"
      ],
      "metadata": {
        "id": "dhaRTTUesT3X"
      }
    },
    {
      "cell_type": "code",
      "execution_count": null,
      "metadata": {
        "id": "fa2HI-arj6k9",
        "colab": {
          "base_uri": "https://localhost:8080/"
        },
        "outputId": "720a1497-19ef-44dd-dae3-e27c4dbb6779"
      },
      "outputs": [
        {
          "output_type": "stream",
          "name": "stdout",
          "text": [
            "Mounted at /content/drive\n"
          ]
        }
      ],
      "source": [
        "from google.colab import drive\n",
        "drive.mount('/content/drive')"
      ]
    },
    {
      "cell_type": "code",
      "source": [
        "cat '/content/drive/MyDrive/python/kaggle/HousePrice/API/'kaggle.json"
      ],
      "metadata": {
        "colab": {
          "base_uri": "https://localhost:8080/"
        },
        "id": "SW9zXOXWnrxr",
        "outputId": "490d1bbc-ddfa-4c8f-9c14-527db1863e91"
      },
      "execution_count": null,
      "outputs": [
        {
          "output_type": "stream",
          "name": "stdout",
          "text": [
            "{\"username\":\"yaeok08\",\"key\":\"338892ef71ce9724fb3174b8c646ea83\"}"
          ]
        }
      ]
    },
    {
      "cell_type": "code",
      "source": [
        "!pip install kaggle\n",
        "!mkdir ~/.kaggle/\n",
        "!cp '/content/drive/MyDrive/python/kaggle/HousePrice/API/'kaggle.json ~/.kaggle/\n",
        "!chmod 600 ~/.kaggle/kaggle.json"
      ],
      "metadata": {
        "colab": {
          "base_uri": "https://localhost:8080/"
        },
        "id": "qMiIYH26oDxx",
        "outputId": "27961c02-d6a2-40d5-f187-2c8e0340088b"
      },
      "execution_count": null,
      "outputs": [
        {
          "output_type": "stream",
          "name": "stdout",
          "text": [
            "Requirement already satisfied: kaggle in /usr/local/lib/python3.7/dist-packages (1.5.12)\n",
            "Requirement already satisfied: six>=1.10 in /usr/local/lib/python3.7/dist-packages (from kaggle) (1.15.0)\n",
            "Requirement already satisfied: python-slugify in /usr/local/lib/python3.7/dist-packages (from kaggle) (5.0.2)\n",
            "Requirement already satisfied: python-dateutil in /usr/local/lib/python3.7/dist-packages (from kaggle) (2.8.2)\n",
            "Requirement already satisfied: tqdm in /usr/local/lib/python3.7/dist-packages (from kaggle) (4.62.3)\n",
            "Requirement already satisfied: urllib3 in /usr/local/lib/python3.7/dist-packages (from kaggle) (1.24.3)\n",
            "Requirement already satisfied: requests in /usr/local/lib/python3.7/dist-packages (from kaggle) (2.23.0)\n",
            "Requirement already satisfied: certifi in /usr/local/lib/python3.7/dist-packages (from kaggle) (2021.10.8)\n",
            "Requirement already satisfied: text-unidecode>=1.3 in /usr/local/lib/python3.7/dist-packages (from python-slugify->kaggle) (1.3)\n",
            "Requirement already satisfied: idna<3,>=2.5 in /usr/local/lib/python3.7/dist-packages (from requests->kaggle) (2.10)\n",
            "Requirement already satisfied: chardet<4,>=3.0.2 in /usr/local/lib/python3.7/dist-packages (from requests->kaggle) (3.0.4)\n"
          ]
        }
      ]
    },
    {
      "cell_type": "code",
      "source": [
        "!kaggle competitions download -c house-prices-advanced-regression-techniques"
      ],
      "metadata": {
        "colab": {
          "base_uri": "https://localhost:8080/"
        },
        "id": "9FPC2HzapEXt",
        "outputId": "a6d62972-8a85-4258-b27f-e87d33a86a6e"
      },
      "execution_count": null,
      "outputs": [
        {
          "output_type": "stream",
          "name": "stdout",
          "text": [
            "Warning: Looks like you're using an outdated API Version, please consider updating (server 1.5.12 / client 1.5.4)\n",
            "Downloading sample_submission.csv to /content\n",
            "  0% 0.00/31.2k [00:00<?, ?B/s]\n",
            "100% 31.2k/31.2k [00:00<00:00, 24.4MB/s]\n",
            "Downloading train.csv to /content\n",
            "  0% 0.00/450k [00:00<?, ?B/s]\n",
            "100% 450k/450k [00:00<00:00, 60.9MB/s]\n",
            "Downloading test.csv to /content\n",
            "  0% 0.00/441k [00:00<?, ?B/s]\n",
            "100% 441k/441k [00:00<00:00, 138MB/s]\n",
            "Downloading data_description.txt to /content\n",
            "  0% 0.00/13.1k [00:00<?, ?B/s]\n",
            "100% 13.1k/13.1k [00:00<00:00, 12.8MB/s]\n"
          ]
        }
      ]
    },
    {
      "cell_type": "code",
      "source": [
        "import numpy as np\n",
        "from matplotlib import pyplot as plt\n",
        "import seaborn as sns\n",
        "from sklearn.metrics import mean_squared_error\n",
        "from sklearn.preprocessing import StandardScaler\n",
        "from sklearn.model_selection import train_test_split\n",
        "from sklearn.pipeline import make_pipeline\n",
        "from sklearn.linear_model import (\n",
        "    LinearRegression,\n",
        "    Ridge,\n",
        "    Lasso\n",
        ")\n",
        "%matplotlib inline"
      ],
      "metadata": {
        "id": "LEdzKSuPSzQ_"
      },
      "execution_count": null,
      "outputs": []
    },
    {
      "cell_type": "code",
      "source": [
        "import pandas as pd\n",
        "\n",
        "train = pd.read_csv('/content/drive/MyDrive/python/kaggle/HousePrice/API/train.csv')\n",
        "print(train)"
      ],
      "metadata": {
        "colab": {
          "base_uri": "https://localhost:8080/"
        },
        "id": "wVrsfv7bpOKM",
        "outputId": "a930e44d-5576-43b0-aa64-cd7ceab93a87"
      },
      "execution_count": null,
      "outputs": [
        {
          "output_type": "stream",
          "name": "stdout",
          "text": [
            "        Id  MSSubClass MSZoning  ...  SaleType  SaleCondition SalePrice\n",
            "0        1          60       RL  ...        WD         Normal    208500\n",
            "1        2          20       RL  ...        WD         Normal    181500\n",
            "2        3          60       RL  ...        WD         Normal    223500\n",
            "3        4          70       RL  ...        WD        Abnorml    140000\n",
            "4        5          60       RL  ...        WD         Normal    250000\n",
            "...    ...         ...      ...  ...       ...            ...       ...\n",
            "1455  1456          60       RL  ...        WD         Normal    175000\n",
            "1456  1457          20       RL  ...        WD         Normal    210000\n",
            "1457  1458          70       RL  ...        WD         Normal    266500\n",
            "1458  1459          20       RL  ...        WD         Normal    142125\n",
            "1459  1460          20       RL  ...        WD         Normal    147500\n",
            "\n",
            "[1460 rows x 81 columns]\n"
          ]
        }
      ]
    },
    {
      "cell_type": "code",
      "source": [
        "test = pd.read_csv('/content/drive/MyDrive/python/kaggle/HousePrice/API/test.csv')\n",
        "print(test)"
      ],
      "metadata": {
        "colab": {
          "base_uri": "https://localhost:8080/"
        },
        "id": "KKBMh6nP6NBU",
        "outputId": "4410ed80-393f-405d-f759-dc4ccad61fbf"
      },
      "execution_count": null,
      "outputs": [
        {
          "output_type": "stream",
          "name": "stdout",
          "text": [
            "        Id  MSSubClass MSZoning  ...  YrSold  SaleType SaleCondition\n",
            "0     1461          20       RH  ...    2010        WD        Normal\n",
            "1     1462          20       RL  ...    2010        WD        Normal\n",
            "2     1463          60       RL  ...    2010        WD        Normal\n",
            "3     1464          60       RL  ...    2010        WD        Normal\n",
            "4     1465         120       RL  ...    2010        WD        Normal\n",
            "...    ...         ...      ...  ...     ...       ...           ...\n",
            "1454  2915         160       RM  ...    2006        WD        Normal\n",
            "1455  2916         160       RM  ...    2006        WD       Abnorml\n",
            "1456  2917          20       RL  ...    2006        WD       Abnorml\n",
            "1457  2918          85       RL  ...    2006        WD        Normal\n",
            "1458  2919          60       RL  ...    2006        WD        Normal\n",
            "\n",
            "[1459 rows x 80 columns]\n"
          ]
        }
      ]
    },
    {
      "cell_type": "code",
      "source": [
        "train['WhatIsData'] = 'Train'\n",
        "test['WhatIsData'] = 'Test'\n",
        "test['SalePrice'] = 9999999999\n",
        "alldata = pd.concat([train, test], axis=0).reset_index(drop=True)\n",
        "print('The size of train is : ' + str(train.shape))\n",
        "print('The size of test is : ' + str(test.shape))"
      ],
      "metadata": {
        "colab": {
          "base_uri": "https://localhost:8080/"
        },
        "id": "mJnqEuY7EWOZ",
        "outputId": "e3f3acd3-1a19-4725-8f4b-46033f6d920f"
      },
      "execution_count": null,
      "outputs": [
        {
          "output_type": "stream",
          "name": "stdout",
          "text": [
            "The size of train is : (1460, 82)\n",
            "The size of test is : (1459, 82)\n"
          ]
        }
      ]
    },
    {
      "cell_type": "code",
      "source": [
        "# 学習データの欠損値の有無を調査\n",
        "train.isnull().sum()[train.isnull().sum()>0].sort_values(ascending=False)"
      ],
      "metadata": {
        "colab": {
          "base_uri": "https://localhost:8080/"
        },
        "id": "fJiyNZSA6Yo5",
        "outputId": "c35c5493-f32f-4980-9138-44b9530a3f9e"
      },
      "execution_count": null,
      "outputs": [
        {
          "output_type": "execute_result",
          "data": {
            "text/plain": [
              "PoolQC          1453\n",
              "MiscFeature     1406\n",
              "Alley           1369\n",
              "Fence           1179\n",
              "FireplaceQu      690\n",
              "LotFrontage      259\n",
              "GarageYrBlt       81\n",
              "GarageType        81\n",
              "GarageFinish      81\n",
              "GarageQual        81\n",
              "GarageCond        81\n",
              "BsmtFinType2      38\n",
              "BsmtExposure      38\n",
              "BsmtFinType1      37\n",
              "BsmtCond          37\n",
              "BsmtQual          37\n",
              "MasVnrArea         8\n",
              "MasVnrType         8\n",
              "Electrical         1\n",
              "dtype: int64"
            ]
          },
          "metadata": {},
          "execution_count": 9
        }
      ]
    },
    {
      "cell_type": "code",
      "source": [
        "# テストデータの欠損値の有無を調査\n",
        "test.isnull().sum()[test.isnull().sum()>0].sort_values(ascending=False)"
      ],
      "metadata": {
        "colab": {
          "base_uri": "https://localhost:8080/"
        },
        "id": "5NVGVAKI70t0",
        "outputId": "66023c0b-5bbf-4e76-b4ab-abf292bfd645"
      },
      "execution_count": null,
      "outputs": [
        {
          "output_type": "execute_result",
          "data": {
            "text/plain": [
              "PoolQC          1456\n",
              "MiscFeature     1408\n",
              "Alley           1352\n",
              "Fence           1169\n",
              "FireplaceQu      730\n",
              "LotFrontage      227\n",
              "GarageYrBlt       78\n",
              "GarageCond        78\n",
              "GarageQual        78\n",
              "GarageFinish      78\n",
              "GarageType        76\n",
              "BsmtCond          45\n",
              "BsmtExposure      44\n",
              "BsmtQual          44\n",
              "BsmtFinType1      42\n",
              "BsmtFinType2      42\n",
              "MasVnrType        16\n",
              "MasVnrArea        15\n",
              "MSZoning           4\n",
              "BsmtFullBath       2\n",
              "BsmtHalfBath       2\n",
              "Utilities          2\n",
              "Functional         2\n",
              "Exterior2nd        1\n",
              "Exterior1st        1\n",
              "SaleType           1\n",
              "BsmtFinSF1         1\n",
              "BsmtFinSF2         1\n",
              "BsmtUnfSF          1\n",
              "KitchenQual        1\n",
              "GarageCars         1\n",
              "GarageArea         1\n",
              "TotalBsmtSF        1\n",
              "dtype: int64"
            ]
          },
          "metadata": {},
          "execution_count": 10
        }
      ]
    },
    {
      "cell_type": "code",
      "source": [
        "# 欠損を含むカラムのデータ型を確認\n",
        "# 欠損を含むカラムをリスト化\n",
        "na_col_list = alldata.isnull().sum()[alldata.isnull().sum()>0].index.tolist()\n",
        "# データ型\n",
        "alldata[na_col_list].dtypes.sort_values()"
      ],
      "metadata": {
        "colab": {
          "base_uri": "https://localhost:8080/"
        },
        "id": "QRVMuoD6A9BW",
        "outputId": "fbc6d9e8-263a-4cd4-e24d-0951fe8f1b39"
      },
      "execution_count": null,
      "outputs": [
        {
          "output_type": "execute_result",
          "data": {
            "text/plain": [
              "TotalBsmtSF     float64\n",
              "BsmtUnfSF       float64\n",
              "BsmtFinSF2      float64\n",
              "BsmtFinSF1      float64\n",
              "GarageYrBlt     float64\n",
              "BsmtFullBath    float64\n",
              "GarageCars      float64\n",
              "BsmtHalfBath    float64\n",
              "GarageArea      float64\n",
              "LotFrontage     float64\n",
              "MasVnrArea      float64\n",
              "GarageQual       object\n",
              "GarageCond       object\n",
              "GarageType       object\n",
              "PoolQC           object\n",
              "FireplaceQu      object\n",
              "Fence            object\n",
              "Functional       object\n",
              "KitchenQual      object\n",
              "GarageFinish     object\n",
              "MSZoning         object\n",
              "MiscFeature      object\n",
              "BsmtFinType2     object\n",
              "BsmtFinType1     object\n",
              "BsmtExposure     object\n",
              "BsmtCond         object\n",
              "BsmtQual         object\n",
              "MasVnrType       object\n",
              "Exterior2nd      object\n",
              "Exterior1st      object\n",
              "Utilities        object\n",
              "Alley            object\n",
              "Electrical       object\n",
              "SaleType         object\n",
              "dtype: object"
            ]
          },
          "metadata": {},
          "execution_count": 11
        }
      ]
    },
    {
      "cell_type": "code",
      "source": [
        "# データ型に応じて欠損値を補完する\n",
        "# floatの場合は0\n",
        "# objectの場合は'NA'\n",
        "na_float_cols = alldata[na_col_list].dtypes[alldata[na_col_list].dtypes=='float64'].index.tolist() #float64\n",
        "na_obj_cols = alldata[na_col_list].dtypes[alldata[na_col_list].dtypes=='object'].index.tolist() #object\n",
        "# float64型で欠損している場合は0を代入\n",
        "for na_float_col in na_float_cols:\n",
        "    alldata.loc[alldata[na_float_col].isnull(),na_float_col] = 0.0\n",
        "# object型で欠損している場合は'NA'を代入\n",
        "for na_obj_col in na_obj_cols:\n",
        "    alldata.loc[alldata[na_obj_col].isnull(),na_obj_col] = 'NA'"
      ],
      "metadata": {
        "id": "cqo3embAFTVl"
      },
      "execution_count": null,
      "outputs": []
    },
    {
      "cell_type": "code",
      "source": [
        "# マージデータの欠損状況\n",
        "alldata.isnull().sum()[alldata.isnull().sum()>0].sort_values(ascending=False)"
      ],
      "metadata": {
        "colab": {
          "base_uri": "https://localhost:8080/"
        },
        "id": "FZbT4571T9xD",
        "outputId": "f8d224e3-488b-4e54-8ac1-fe55b68cf877"
      },
      "execution_count": null,
      "outputs": [
        {
          "output_type": "execute_result",
          "data": {
            "text/plain": [
              "Series([], dtype: int64)"
            ]
          },
          "metadata": {},
          "execution_count": 13
        }
      ]
    },
    {
      "cell_type": "code",
      "source": [
        "# カテゴリカル変数の特徴量をリスト化\n",
        "cat_cols = alldata.dtypes[alldata.dtypes=='object'].index.tolist()\n",
        "# 数値変数の特徴量をリスト化\n",
        "num_cols = alldata.dtypes[alldata.dtypes!='object'].index.tolist()\n",
        "# データ分割および提出時に必要なカラムをリスト化\n",
        "other_cols = ['Id','WhatIsData']\n",
        "# 余計な要素をリストから削除\n",
        "cat_cols.remove('WhatIsData') #学習データ・テストデータ区別フラグ除去\n",
        "num_cols.remove('Id') #Id削除\n",
        "# カテゴリカル変数をダミー化\n",
        "alldata_cat = pd.get_dummies(alldata[cat_cols])\n",
        "# データ統合\n",
        "all_data = pd.concat([alldata[other_cols],alldata[num_cols],alldata_cat],axis=1)"
      ],
      "metadata": {
        "id": "HucIbyBWUup3"
      },
      "execution_count": null,
      "outputs": []
    },
    {
      "cell_type": "code",
      "source": [
        "sns.distplot(train['SalePrice'])"
      ],
      "metadata": {
        "colab": {
          "base_uri": "https://localhost:8080/",
          "height": 365
        },
        "id": "q0MpeFmJUx6_",
        "outputId": "ce4f6fa5-443d-4d22-b4d0-895d152d8710"
      },
      "execution_count": null,
      "outputs": [
        {
          "output_type": "stream",
          "name": "stderr",
          "text": [
            "/usr/local/lib/python3.7/dist-packages/seaborn/distributions.py:2619: FutureWarning: `distplot` is a deprecated function and will be removed in a future version. Please adapt your code to use either `displot` (a figure-level function with similar flexibility) or `histplot` (an axes-level function for histograms).\n",
            "  warnings.warn(msg, FutureWarning)\n"
          ]
        },
        {
          "output_type": "execute_result",
          "data": {
            "text/plain": [
              "<matplotlib.axes._subplots.AxesSubplot at 0x7f0b18a1d510>"
            ]
          },
          "metadata": {},
          "execution_count": 15
        },
        {
          "output_type": "display_data",
          "data": {
            "image/png": "[encoded data removed]",
            "text/plain": [
              "<Figure size 432x288 with 1 Axes>"
            ]
          },
          "metadata": {
            "needs_background": "light"
          }
        }
      ]
    },
    {
      "cell_type": "code",
      "source": [
        "sns.distplot(np.log(train['SalePrice']))"
      ],
      "metadata": {
        "colab": {
          "base_uri": "https://localhost:8080/",
          "height": 354
        },
        "id": "WooMe3NMo3FS",
        "outputId": "aa04f467-42b4-40f9-af32-727bb64a6c72"
      },
      "execution_count": null,
      "outputs": [
        {
          "output_type": "stream",
          "name": "stderr",
          "text": [
            "/usr/local/lib/python3.7/dist-packages/seaborn/distributions.py:2619: FutureWarning: `distplot` is a deprecated function and will be removed in a future version. Please adapt your code to use either `displot` (a figure-level function with similar flexibility) or `histplot` (an axes-level function for histograms).\n",
            "  warnings.warn(msg, FutureWarning)\n"
          ]
        },
        {
          "output_type": "execute_result",
          "data": {
            "text/plain": [
              "<matplotlib.axes._subplots.AxesSubplot at 0x7f0b1690b490>"
            ]
          },
          "metadata": {},
          "execution_count": 16
        },
        {
          "output_type": "display_data",
          "data": {
            "image/png": "[encoded data removed]",
            "text/plain": [
              "<Figure size 432x288 with 1 Axes>"
            ]
          },
          "metadata": {
            "needs_background": "light"
          }
        }
      ]
    },
    {
      "cell_type": "code",
      "source": [
        "# マージデータを学習データとテストデータに分割\n",
        "train_ = all_data[all_data['WhatIsData']=='Train'].drop(['WhatIsData','Id'], axis=1).reset_index(drop=True)\n",
        "test_ = all_data[all_data['WhatIsData']=='Test'].drop(['WhatIsData','SalePrice'], axis=1).reset_index(drop=True)\n",
        "# 学習データ内の分割\n",
        "train_x = train_.drop('SalePrice',axis=1)\n",
        "train_y = np.log(train_['SalePrice'])\n",
        "# テストデータ内の分割\n",
        "test_id = test_['Id']\n",
        "test_data = test_.drop('Id',axis=1)"
      ],
      "metadata": {
        "id": "dmG6_OrupixC"
      },
      "execution_count": null,
      "outputs": []
    }
  ]
}
