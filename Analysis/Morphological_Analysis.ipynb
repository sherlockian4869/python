{
  "nbformat": 4,
  "nbformat_minor": 0,
  "metadata": {
    "colab": {
      "name": "Morphological_Analysis.ipynb",
      "provenance": [],
      "include_colab_link": true
    },
    "kernelspec": {
      "name": "python3",
      "display_name": "Python 3"
    },
    "language_info": {
      "name": "python"
    }
  },
  "cells": [
    {
      "cell_type": "markdown",
      "metadata": {
        "id": "view-in-github",
        "colab_type": "text"
      },
      "source": [
        "<a href=\"https://colab.research.google.com/github/sherlockian4869/python/blob/main/Analysis/Morphological_Analysis.ipynb\" target=\"_parent\"><img src=\"https://colab.research.google.com/assets/colab-badge.svg\" alt=\"Open In Colab\"/></a>"
      ]
    },
    {
      "cell_type": "markdown",
      "source": [
        "形態素解析について  \n",
        "サンプルコードを動かしてみた  \n",
        "[Google Colaboratoryで形態素解析 | MeCabとJanomeの使い方](https://omathin.com/morphological-analysis/)  \n",
        "形態素解析した単語の頻出を可視化してみる  \n",
        "[自然言語を簡単に可視化・分析できるライブラリ「nlplot」を公開しました](https://www.takapy.work/entry/2020/05/17/192947)"
      ],
      "metadata": {
        "id": "uiL8f8hurnvJ"
      }
    },
    {
      "cell_type": "code",
      "source": [
        "# MeCabライブラリのインストール\n",
        "!pip install mecab-python3"
      ],
      "metadata": {
        "colab": {
          "base_uri": "https://localhost:8080/"
        },
        "id": "V0a8OojCr5vz",
        "outputId": "df956d5f-84e1-4e9a-f348-addb8dcaf9a6"
      },
      "execution_count": 1,
      "outputs": [
        {
          "output_type": "stream",
          "name": "stdout",
          "text": [
            "Collecting mecab-python3\n",
            "  Downloading mecab_python3-1.0.4-cp37-cp37m-manylinux_2_5_x86_64.manylinux1_x86_64.whl (488 kB)\n",
            "\u001b[?25l\r\u001b[K     |▊                               | 10 kB 23.7 MB/s eta 0:00:01\r\u001b[K     |█▍                              | 20 kB 30.3 MB/s eta 0:00:01\r\u001b[K     |██                              | 30 kB 26.3 MB/s eta 0:00:01\r\u001b[K     |██▊                             | 40 kB 19.9 MB/s eta 0:00:01\r\u001b[K     |███▍                            | 51 kB 16.3 MB/s eta 0:00:01\r\u001b[K     |████                            | 61 kB 15.8 MB/s eta 0:00:01\r\u001b[K     |████▊                           | 71 kB 14.3 MB/s eta 0:00:01\r\u001b[K     |█████▍                          | 81 kB 15.8 MB/s eta 0:00:01\r\u001b[K     |██████                          | 92 kB 12.9 MB/s eta 0:00:01\r\u001b[K     |██████▊                         | 102 kB 14.0 MB/s eta 0:00:01\r\u001b[K     |███████▍                        | 112 kB 14.0 MB/s eta 0:00:01\r\u001b[K     |████████                        | 122 kB 14.0 MB/s eta 0:00:01\r\u001b[K     |████████▊                       | 133 kB 14.0 MB/s eta 0:00:01\r\u001b[K     |█████████▍                      | 143 kB 14.0 MB/s eta 0:00:01\r\u001b[K     |██████████                      | 153 kB 14.0 MB/s eta 0:00:01\r\u001b[K     |██████████▊                     | 163 kB 14.0 MB/s eta 0:00:01\r\u001b[K     |███████████▍                    | 174 kB 14.0 MB/s eta 0:00:01\r\u001b[K     |████████████                    | 184 kB 14.0 MB/s eta 0:00:01\r\u001b[K     |████████████▊                   | 194 kB 14.0 MB/s eta 0:00:01\r\u001b[K     |█████████████▍                  | 204 kB 14.0 MB/s eta 0:00:01\r\u001b[K     |██████████████                  | 215 kB 14.0 MB/s eta 0:00:01\r\u001b[K     |██████████████▊                 | 225 kB 14.0 MB/s eta 0:00:01\r\u001b[K     |███████████████▍                | 235 kB 14.0 MB/s eta 0:00:01\r\u001b[K     |████████████████                | 245 kB 14.0 MB/s eta 0:00:01\r\u001b[K     |████████████████▊               | 256 kB 14.0 MB/s eta 0:00:01\r\u001b[K     |█████████████████▍              | 266 kB 14.0 MB/s eta 0:00:01\r\u001b[K     |██████████████████▏             | 276 kB 14.0 MB/s eta 0:00:01\r\u001b[K     |██████████████████▉             | 286 kB 14.0 MB/s eta 0:00:01\r\u001b[K     |███████████████████▌            | 296 kB 14.0 MB/s eta 0:00:01\r\u001b[K     |████████████████████▏           | 307 kB 14.0 MB/s eta 0:00:01\r\u001b[K     |████████████████████▉           | 317 kB 14.0 MB/s eta 0:00:01\r\u001b[K     |█████████████████████▌          | 327 kB 14.0 MB/s eta 0:00:01\r\u001b[K     |██████████████████████▏         | 337 kB 14.0 MB/s eta 0:00:01\r\u001b[K     |██████████████████████▉         | 348 kB 14.0 MB/s eta 0:00:01\r\u001b[K     |███████████████████████▌        | 358 kB 14.0 MB/s eta 0:00:01\r\u001b[K     |████████████████████████▏       | 368 kB 14.0 MB/s eta 0:00:01\r\u001b[K     |████████████████████████▉       | 378 kB 14.0 MB/s eta 0:00:01\r\u001b[K     |█████████████████████████▌      | 389 kB 14.0 MB/s eta 0:00:01\r\u001b[K     |██████████████████████████▏     | 399 kB 14.0 MB/s eta 0:00:01\r\u001b[K     |██████████████████████████▉     | 409 kB 14.0 MB/s eta 0:00:01\r\u001b[K     |███████████████████████████▌    | 419 kB 14.0 MB/s eta 0:00:01\r\u001b[K     |████████████████████████████▏   | 430 kB 14.0 MB/s eta 0:00:01\r\u001b[K     |████████████████████████████▉   | 440 kB 14.0 MB/s eta 0:00:01\r\u001b[K     |█████████████████████████████▌  | 450 kB 14.0 MB/s eta 0:00:01\r\u001b[K     |██████████████████████████████▏ | 460 kB 14.0 MB/s eta 0:00:01\r\u001b[K     |██████████████████████████████▉ | 471 kB 14.0 MB/s eta 0:00:01\r\u001b[K     |███████████████████████████████▌| 481 kB 14.0 MB/s eta 0:00:01\r\u001b[K     |████████████████████████████████| 488 kB 14.0 MB/s \n",
            "\u001b[?25hInstalling collected packages: mecab-python3\n",
            "Successfully installed mecab-python3-1.0.4\n"
          ]
        }
      ]
    },
    {
      "cell_type": "code",
      "source": [
        "!pip install unidic"
      ],
      "metadata": {
        "colab": {
          "base_uri": "https://localhost:8080/"
        },
        "id": "mD305DHnsLUs",
        "outputId": "39305e62-4186-48df-ff4a-3836ca6f2ba9"
      },
      "execution_count": 2,
      "outputs": [
        {
          "output_type": "stream",
          "name": "stdout",
          "text": [
            "Collecting unidic\n",
            "  Downloading unidic-1.1.0.tar.gz (7.7 kB)\n",
            "Requirement already satisfied: requests<3.0.0,>=2.22.0 in /usr/local/lib/python3.7/dist-packages (from unidic) (2.23.0)\n",
            "Requirement already satisfied: tqdm<5.0.0,>=4.41.1 in /usr/local/lib/python3.7/dist-packages (from unidic) (4.62.3)\n",
            "Requirement already satisfied: wasabi<1.0.0,>=0.6.0 in /usr/local/lib/python3.7/dist-packages (from unidic) (0.8.2)\n",
            "Requirement already satisfied: plac<2.0.0,>=1.1.3 in /usr/local/lib/python3.7/dist-packages (from unidic) (1.1.3)\n",
            "Requirement already satisfied: urllib3!=1.25.0,!=1.25.1,<1.26,>=1.21.1 in /usr/local/lib/python3.7/dist-packages (from requests<3.0.0,>=2.22.0->unidic) (1.24.3)\n",
            "Requirement already satisfied: idna<3,>=2.5 in /usr/local/lib/python3.7/dist-packages (from requests<3.0.0,>=2.22.0->unidic) (2.10)\n",
            "Requirement already satisfied: certifi>=2017.4.17 in /usr/local/lib/python3.7/dist-packages (from requests<3.0.0,>=2.22.0->unidic) (2021.10.8)\n",
            "Requirement already satisfied: chardet<4,>=3.0.2 in /usr/local/lib/python3.7/dist-packages (from requests<3.0.0,>=2.22.0->unidic) (3.0.4)\n",
            "Building wheels for collected packages: unidic\n",
            "  Building wheel for unidic (setup.py) ... \u001b[?25l\u001b[?25hdone\n",
            "  Created wheel for unidic: filename=unidic-1.1.0-py3-none-any.whl size=7426 sha256=690587bd2bb3c7d0f66955e0325d7e8d2aa07ec2ff5ca51eb9c7b6344bcb08cf\n",
            "  Stored in directory: /root/.cache/pip/wheels/ce/4d/f1/170bb74b559ca338113c0315c9805e16dfd0a12411ec6b1122\n",
            "Successfully built unidic\n",
            "Installing collected packages: unidic\n",
            "Successfully installed unidic-1.1.0\n"
          ]
        }
      ]
    },
    {
      "cell_type": "code",
      "source": [
        "!python -m unidic download"
      ],
      "metadata": {
        "colab": {
          "base_uri": "https://localhost:8080/"
        },
        "id": "lI94nMBtsQVl",
        "outputId": "fb29775e-31d7-4d96-b922-62c2113ff7da"
      },
      "execution_count": 3,
      "outputs": [
        {
          "output_type": "stream",
          "name": "stdout",
          "text": [
            "download url: https://cotonoha-dic.s3-ap-northeast-1.amazonaws.com/unidic-3.1.0.zip\n",
            "Dictionary version: 3.1.0+2021-08-31\n",
            "Downloading UniDic v3.1.0+2021-08-31...\n",
            "unidic-3.1.0.zip: 100% 526M/526M [00:46<00:00, 11.3MB/s]\n",
            "Finished download.\n",
            "Downloaded UniDic v3.1.0+2021-08-31 to /usr/local/lib/python3.7/dist-packages/unidic/dicdir\n"
          ]
        }
      ]
    },
    {
      "cell_type": "code",
      "source": [
        "import MeCab\n",
        "import unidic\n",
        "mecab = MeCab.Tagger()\n",
        "print(mecab.parse(\"私は形態素解析を学んでいます。\"))"
      ],
      "metadata": {
        "id": "MfMOMTg2sWCm",
        "colab": {
          "base_uri": "https://localhost:8080/"
        },
        "outputId": "8cf0294d-f0d0-429f-8e8a-5096eb0bdd2b"
      },
      "execution_count": 4,
      "outputs": [
        {
          "output_type": "stream",
          "name": "stdout",
          "text": [
            "私\t代名詞,,,,,,ワタクシ,私-代名詞,私,ワタクシ,私,ワタクシ,和,\"\",\"\",\"\",\"\",\"\",\"\",体,ワタクシ,ワタクシ,ワタクシ,ワタクシ,\"0\",\"\",\"\",11345327978324480,41274\n",
            "は\t助詞,係助詞,,,,,ハ,は,は,ワ,は,ワ,和,\"\",\"\",\"\",\"\",\"\",\"\",係助,ハ,ハ,ハ,ハ,\"\",\"動詞%F2@0,名詞%F1,形容詞%F2@-1\",\"\",8059703733133824,29321\n",
            "形態\t名詞,普通名詞,一般,,,,ケイタイ,形態,形態,ケータイ,形態,ケータイ,漢,\"\",\"\",\"\",\"\",\"\",\"\",体,ケイタイ,ケイタイ,ケイタイ,ケイタイ,\"0\",\"C2\",\"\",3024215389381120,11002\n",
            "素\t接尾辞,名詞的,一般,,,,ソ,素,素,ソ,素,ソ,漢,\"\",\"\",\"\",\"\",\"\",\"\",接尾体,ソ,ソ,ソ,ソ,\"\",\"C3\",\"\",5752103704338944,20926\n",
            "解析\t名詞,普通名詞,サ変可能,,,,カイセキ,解析,解析,カイセキ,解析,カイセキ,漢,\"\",\"\",\"\",\"\",\"\",\"\",体,カイセキ,カイセキ,カイセキ,カイセキ,\"0\",\"C2\",\"\",1590177315299840,5785\n",
            "を\t助詞,格助詞,,,,,ヲ,を,を,オ,を,オ,和,\"\",\"\",\"\",\"\",\"\",\"\",格助,ヲ,ヲ,ヲ,ヲ,\"\",\"動詞%F2@0,名詞%F1,形容詞%F2@-1\",\"\",11381878116459008,41407\n",
            "学ん\t動詞,一般,,,五段-バ行,連用形-撥音便,マナブ,学ぶ,学ん,マナン,学ぶ,マナブ,和,\"\",\"\",\"\",\"\",\"\",\"\",用,マナン,マナブ,マナン,マナブ,\"0,2\",\"C2\",\"\",9878570876936837,35938\n",
            "で\t助詞,接続助詞,,,,,テ,て,で,デ,で,デ,和,\"\",\"\",\"\",\"\",\"\",\"\",接助,デ,デ,デ,デ,\"\",\"動詞%F1,形容詞%F2@-1\",\"\",6837330270888448,24874\n",
            "い\t動詞,非自立可能,,,上一段-ア行,連用形-一般,イル,居る,い,イ,いる,イル,和,\"\",\"\",\"\",\"\",\"\",\"\",用,イ,イル,イ,イル,\"0\",\"C4\",\"M4@1\",710568013079169,2585\n",
            "ます\t助動詞,,,,助動詞-マス,終止形-一般,マス,ます,ます,マス,ます,マス,和,\"\",\"\",\"\",\"\",\"\",\"\",助動,マス,マス,マス,マス,\"\",\"動詞%F4@1\",\"\",9812325267808939,35697\n",
            "。\t補助記号,句点,,,,,,。,。,,。,,記号,\"\",\"\",\"\",\"\",\"\",\"\",補助,,,,,\"\",\"\",\"\",6880571302400,25\n",
            "EOS\n",
            "\n"
          ]
        }
      ]
    },
    {
      "cell_type": "code",
      "source": [
        "# 分かち書き\n",
        "mecab_wa = MeCab.Tagger('-Owakati')\n",
        "print(mecab_wa.parse(\"私は形態素解析を学んでいます。\"))"
      ],
      "metadata": {
        "colab": {
          "base_uri": "https://localhost:8080/"
        },
        "id": "eYbrvkEzfjhn",
        "outputId": "d32fa150-6278-4906-9afa-a342af43b7ef"
      },
      "execution_count": 6,
      "outputs": [
        {
          "output_type": "stream",
          "name": "stdout",
          "text": [
            "私 は 形態 素 解析 を 学ん で い ます 。 \n",
            "\n"
          ]
        }
      ]
    }
  ]
}