{
  "nbformat": 4,
  "nbformat_minor": 0,
  "metadata": {
    "colab": {
      "name": "Web_Scraping_and_Morphological_Analysis.ipynb",
      "provenance": [],
      "collapsed_sections": [],
      "authorship_tag": "ABX9TyM5opmvYJuSg6RjsUMp8QH2",
      "include_colab_link": true
    },
    "kernelspec": {
      "name": "python3",
      "display_name": "Python 3"
    },
    "language_info": {
      "name": "python"
    }
  },
  "cells": [
    {
      "cell_type": "markdown",
      "metadata": {
        "id": "view-in-github",
        "colab_type": "text"
      },
      "source": [
        "<a href=\"https://colab.research.google.com/github/sherlockian4869/python/blob/main/Analysis/Web_Scraping_and_Morphological_Analysis.ipynb\" target=\"_parent\"><img src=\"https://colab.research.google.com/assets/colab-badge.svg\" alt=\"Open In Colab\"/></a>"
      ]
    },
    {
      "cell_type": "markdown",
      "source": [
        "# Google Colab環境でwebスクレイピングをしてみる  \n",
        "参考にした資料  \n",
        "・[Google Colab環境でWebスクレイピングを行うためのメモ。スクレイピングした情報をGoogle Driveに書き込むまでの流れ](https://qiita.com/safa/items/90c370ebefbecbcfecac)  \n",
        "\n",
        "・[pythonでスクレイピングを行う方法](https://techacademy.jp/magazine/18875)  \n",
        "\n",
        "・[pythonのlxmlライブラリの使い方](https://techacademy.jp/magazine/19063)  \n",
        "\n",
        "・[pythonを用いたcsvファイルの書き込み及び読み込み](https://okazukun5.com/122/)\n",
        "\n",
        "・[[python]MeCabでだれでも簡単にできる分かち書きをする方法](https://sleepless-se.net/2018/08/24/python-mecab-wakatigaki/)\n",
        "\n",
        "・[Beautiful Soup のfind_all( ) と select( ) の使い方](https://gammasoft.jp/blog/difference-find-and-select-in-beautiful-soup-of-python/)\n",
        "\n",
        "・[Pythonで文章中の頻出単語を抽出する方法](https://analysis-navi.com/?p=2167)\n",
        "\n",
        "このColabでやった実際の手順  \n",
        "・Goolge Newsから記事を引っ張ってくる  \n",
        "・スクレイピングしたものをcsvファイルにしてドライブに格納  \n",
        "　※csvファイルにしてドライブ格納ができなかったため、  そのまま文字列を使って形態素解析  \n",
        "・csvファイルからデータを読み取って、形態素解析  \n",
        "・単語のカウントを行い、最も多く頻出された単語を表示  \n",
        "・単語の整理を行い品詞ごとに多く頻出された単語を表示  "
      ],
      "metadata": {
        "id": "HlVfhSr-QS61"
      }
    },
    {
      "cell_type": "code",
      "source": [
        "# # pythonのバージョン確認\n",
        "# !python --version\n",
        "\n",
        "# # requestとbeautifulsoup4がインストールされているか確認\n",
        "# !pip freeze | grep request\n",
        "# !pip freeze | grep beautiful"
      ],
      "metadata": {
        "id": "UYfM6jMqQnaV"
      },
      "execution_count": 88,
      "outputs": []
    },
    {
      "cell_type": "code",
      "source": [
        "# MeCabライブラリのインストール\n",
        "!pip install mecab-python3"
      ],
      "metadata": {
        "colab": {
          "base_uri": "https://localhost:8080/"
        },
        "id": "sUO0Br1N6PYZ",
        "outputId": "2c80d7f4-3162-447a-f146-2f4410c3a746"
      },
      "execution_count": 89,
      "outputs": [
        {
          "output_type": "stream",
          "name": "stdout",
          "text": [
            "Requirement already satisfied: mecab-python3 in /usr/local/lib/python3.7/dist-packages (1.0.4)\n"
          ]
        }
      ]
    },
    {
      "cell_type": "code",
      "source": [
        "!pip install unidic"
      ],
      "metadata": {
        "colab": {
          "base_uri": "https://localhost:8080/"
        },
        "id": "HoSTFZZR6Vn5",
        "outputId": "a98b89f4-f8ea-46c2-a8ae-430b37e469a9"
      },
      "execution_count": 90,
      "outputs": [
        {
          "output_type": "stream",
          "name": "stdout",
          "text": [
            "Requirement already satisfied: unidic in /usr/local/lib/python3.7/dist-packages (1.1.0)\n",
            "Requirement already satisfied: plac<2.0.0,>=1.1.3 in /usr/local/lib/python3.7/dist-packages (from unidic) (1.1.3)\n",
            "Requirement already satisfied: tqdm<5.0.0,>=4.41.1 in /usr/local/lib/python3.7/dist-packages (from unidic) (4.62.3)\n",
            "Requirement already satisfied: wasabi<1.0.0,>=0.6.0 in /usr/local/lib/python3.7/dist-packages (from unidic) (0.8.2)\n",
            "Requirement already satisfied: requests<3.0.0,>=2.22.0 in /usr/local/lib/python3.7/dist-packages (from unidic) (2.23.0)\n",
            "Requirement already satisfied: certifi>=2017.4.17 in /usr/local/lib/python3.7/dist-packages (from requests<3.0.0,>=2.22.0->unidic) (2021.10.8)\n",
            "Requirement already satisfied: chardet<4,>=3.0.2 in /usr/local/lib/python3.7/dist-packages (from requests<3.0.0,>=2.22.0->unidic) (3.0.4)\n",
            "Requirement already satisfied: idna<3,>=2.5 in /usr/local/lib/python3.7/dist-packages (from requests<3.0.0,>=2.22.0->unidic) (2.10)\n",
            "Requirement already satisfied: urllib3!=1.25.0,!=1.25.1,<1.26,>=1.21.1 in /usr/local/lib/python3.7/dist-packages (from requests<3.0.0,>=2.22.0->unidic) (1.24.3)\n"
          ]
        }
      ]
    },
    {
      "cell_type": "code",
      "source": [
        "!python -m unidic download"
      ],
      "metadata": {
        "colab": {
          "base_uri": "https://localhost:8080/"
        },
        "id": "tbyRTlkc6WUJ",
        "outputId": "de605e82-05cb-44a1-d996-b4b242943342"
      },
      "execution_count": 91,
      "outputs": [
        {
          "output_type": "stream",
          "name": "stdout",
          "text": [
            "download url: https://cotonoha-dic.s3-ap-northeast-1.amazonaws.com/unidic-3.1.0.zip\n",
            "Dictionary version: 3.1.0+2021-08-31\n",
            "Downloading UniDic v3.1.0+2021-08-31...\n",
            "unidic-3.1.0.zip: 100% 526M/526M [00:56<00:00, 9.28MB/s]\n",
            "Finished download.\n",
            "Downloaded UniDic v3.1.0+2021-08-31 to /usr/local/lib/python3.7/dist-packages/unidic/dicdir\n"
          ]
        }
      ]
    },
    {
      "cell_type": "code",
      "source": [
        "from google.colab import drive\n",
        "drive.mount('/content/drive')"
      ],
      "metadata": {
        "colab": {
          "base_uri": "https://localhost:8080/"
        },
        "id": "fSg-91MxoDo8",
        "outputId": "08edac5b-1085-4b9d-d8de-3ffed489b416"
      },
      "execution_count": 92,
      "outputs": [
        {
          "output_type": "stream",
          "name": "stdout",
          "text": [
            "Drive already mounted at /content/drive; to attempt to forcibly remount, call drive.mount(\"/content/drive\", force_remount=True).\n"
          ]
        }
      ]
    },
    {
      "cell_type": "code",
      "source": [
        "import requests\n",
        "request = requests.get('https://api.github.com/repos/psf/requests')\n",
        "request.json()[\"description\"]"
      ],
      "metadata": {
        "colab": {
          "base_uri": "https://localhost:8080/",
          "height": 35
        },
        "id": "z9m44Xzngi0y",
        "outputId": "12a67d3a-8cf6-43dd-ded8-4596318d0ed9"
      },
      "execution_count": 93,
      "outputs": [
        {
          "output_type": "execute_result",
          "data": {
            "application/vnd.google.colaboratory.intrinsic+json": {
              "type": "string"
            },
            "text/plain": [
              "'A simple, yet elegant, HTTP library.'"
            ]
          },
          "metadata": {},
          "execution_count": 93
        }
      ]
    },
    {
      "cell_type": "code",
      "source": [
        "html_doc = \"\"\"\n",
        "<html><head><title>The Dormouse's story</title></head>\n",
        "<body>\n",
        "<p class=\"title\"><b>The Dormouse's story</b></p>\n",
        "\n",
        "<p class=\"story\">Once upon a time there were three little sisters; and their names were\n",
        "<a href=\"http://example.com/elsie\" class=\"sister\" id=\"link1\">Elsie</a>,\n",
        "<a href=\"http://example.com/lacie\" class=\"sister\" id=\"link2\">Lacie</a> and\n",
        "<a href=\"http://example.com/tillie\" class=\"sister\" id=\"link3\">Tillie</a>;\n",
        "and they lived at the bottom of a well.</p>\n",
        "\n",
        "<p class=\"story\">...</p>\n",
        "\"\"\"\n",
        "\n",
        "from bs4 import BeautifulSoup\n",
        "soup = BeautifulSoup(html_doc, 'html.parser')\n",
        "\n",
        "print(soup.prettify())"
      ],
      "metadata": {
        "colab": {
          "base_uri": "https://localhost:8080/"
        },
        "id": "uU6QYBTIhfAz",
        "outputId": "a2ff9623-8615-4ad6-f0a9-b785ff61c863"
      },
      "execution_count": 94,
      "outputs": [
        {
          "output_type": "stream",
          "name": "stdout",
          "text": [
            "<html>\n",
            " <head>\n",
            "  <title>\n",
            "   The Dormouse's story\n",
            "  </title>\n",
            " </head>\n",
            " <body>\n",
            "  <p class=\"title\">\n",
            "   <b>\n",
            "    The Dormouse's story\n",
            "   </b>\n",
            "  </p>\n",
            "  <p class=\"story\">\n",
            "   Once upon a time there were three little sisters; and their names were\n",
            "   <a class=\"sister\" href=\"http://example.com/elsie\" id=\"link1\">\n",
            "    Elsie\n",
            "   </a>\n",
            "   ,\n",
            "   <a class=\"sister\" href=\"http://example.com/lacie\" id=\"link2\">\n",
            "    Lacie\n",
            "   </a>\n",
            "   and\n",
            "   <a class=\"sister\" href=\"http://example.com/tillie\" id=\"link3\">\n",
            "    Tillie\n",
            "   </a>\n",
            "   ;\n",
            "and they lived at the bottom of a well.\n",
            "  </p>\n",
            "  <p class=\"story\">\n",
            "   ...\n",
            "  </p>\n",
            " </body>\n",
            "</html>\n"
          ]
        }
      ]
    },
    {
      "cell_type": "code",
      "source": [
        "import requests\n",
        "from bs4 import BeautifulSoup\n",
        "import csv\n",
        "import pandas as pd\n",
        "\n",
        "# WebサイトのURLを指定\n",
        "url = \"https://news.google.com/?hl=ja&gl=JP&ceid=JP:ja\"\n",
        "\n",
        "# Requestsを利用してWebページを取得する\n",
        "r = requests.get(url)\n",
        "\n",
        "# BeautifulSoupを利用してWebページを解析する\n",
        "soup = BeautifulSoup(r.text, 'html.parser')\n",
        "\n",
        "# soup.find_allを利用して、ヘッドラインのタイトルを取得する\n",
        "elems = soup.find_all(\"a\", class_=\"DY5T1d\")\n",
        "\n",
        "# drive上にcsvファイルとして書き出し\n",
        "# 実装できなかったので後回し\n",
        "# columns = ['news']\n",
        "# df = pd.DataFrame(columns=columns)\n",
        "\n",
        "# for item in elems:\n",
        "#   news = item.getText()\n",
        "#   se = pd.Series([news], columns)\n",
        "#   df = df.append(se, columns)\n",
        "\n",
        "# with open('/test_02.csv', mode='w') as f:\n",
        "#   df.to_csv(f, index=False)"
      ],
      "metadata": {
        "id": "_hykr7imh56R"
      },
      "execution_count": 95,
      "outputs": []
    },
    {
      "cell_type": "code",
      "source": [
        "import MeCab\n",
        "import unidic\n",
        "\n",
        "# ニュースの文字列の作成\n",
        "news = ''\n",
        "for e in elems:\n",
        "  news += e.getText() + '\\n'\n",
        "\n",
        "print(news)\n",
        "\n",
        "# mecab = MeCab.Tagger('')\n",
        "# node = mecab.parseToNode(news)\n",
        "# words = []\n",
        "\n",
        "# while node:\n",
        "#   words.append(node.surface)\n",
        "#   node = node.next"
      ],
      "metadata": {
        "colab": {
          "base_uri": "https://localhost:8080/"
        },
        "id": "hwsoZ__15jQz",
        "outputId": "41ce6e9d-d714-4db8-feb2-fdeccee7528f"
      },
      "execution_count": 109,
      "outputs": [
        {
          "output_type": "stream",
          "name": "stdout",
          "text": [
            "温泉入浴で腸内細菌に変化 九州大、別府での研究を中間報告（毎日新聞） - Yahoo!ニュース\n",
            "「こども庁」→「こども家庭庁」へ なぜ名称変更？\n",
            "こども庁→「こども家庭庁」に反対の声。「家庭が安心できる居場所だったことは…」自民党内でも意見割れる（BuzzFeed Japan） - Yahoo!ニュース\n",
            "「こども庁」を「こども家庭庁」に変更 自民保守派に配慮\n",
            "新組織は「こども家庭庁」 いじめ対策も文科省と共同所掌\n",
            "「こども庁」→「こども家庭庁」へ なぜ名称変更？(2021年12月15日)\n",
            "英の新規感染者、過去最多7万8000人に オミクロン急増（写真=ロイター）\n",
            "英新規感染が過去最高更新 7万8千人、新変異株急増（共同通信） - Yahoo!ニュース\n",
            "英・オミクロン株拡大「ロンドンで全感染者の40％」(2021年12月15日)\n",
            "英 オミクロン「驚異的な広がり」死亡例も、韓国 防疫パス 連日障害\n",
            "イギリスでコロナ感染者過去最多 “ロンドンはオミクロン株60%”\n",
            "政府 “10万円給付指針”現金一括給付など 全国の自治体に通知\n",
            "【１０万円給付】\"現金一括\"へ 自治体で進む準備\n",
            "新型コロナ 10万円給付 全市町、現金一括に 政府方針転換、対応追われ ／香川\n",
            "「10万円給付」新指針 “クーポン派”市長も転換(2021年12月15日)\n",
            "申請するだけでもらえるお金 岸田政権の「経済政策」を知る！〈週刊朝日〉（AERA dot.） - Yahoo!ニュース\n",
            "赤木さん妻「不意打ち、ひきょうだ」 政府、森友改ざん真相究明させず\n",
            "赤木雅子さん「ふざけんなと思う」公文書改ざん訴訟 国側が請求を『認め』に転じる 国との裁判が終結へ（MBSニュース） - Yahoo!ニュース\n",
            "対応一転・・・赤木さん自死「国の責任明らか」鈴木大臣(2021年12月15日)\n",
            "首相「痛恨の極み」 元財務職員自殺\n",
            "赤木さん妻「ふざけるな！」国の幕引きに怒り 森友文書改ざん問題\n",
            "週間天気 各地で雨に、日本海側は大雪に警戒 週末は真冬の寒さ\n",
            "週末は日本海側で1m近い大雪のおそれ 西日本でも雪の降る可能性（ウェザーニュース） - Yahoo!ニュース\n",
            "最強寒気 今週末は大雪に警戒\n",
            "週末は日本海側で1m近い大雪のおそれ 西日本でも雪の降る可能性\n",
            "17日（金）～18日（土）冬型の気圧配置強まる 日本海側は猛ふぶきや大雪のおそれ 交通障害にも注意（ウェザーマップ） - Yahoo!ニュース\n",
            "心理的安全性が低い職場は「空気を読み過ぎる部下」にも問題がある 「やる気に満ちたやさしい組織」を作るための2つの要素\n",
            "即身仏：厳しい修行の果てに涅槃（ねはん）を目指したミイラ仏\n",
            "【レビュー】邪魔にならない、スマートリング「Oura Ring」第3世代モデル\n",
            "「M-1グランプリ2021」お笑い好き著名人が優勝予想！ ユーキ（超特急）、江野沢愛美、DJ KOO、福士奈央（SKE48）、呂布カルマの三連単とは？ - お笑いナタリー 特集・インタビュー\n",
            "PCゲームを“肩のせ”快適プレイ! パナソニック「SC-GN01」×「FF XIV」\n",
            "どれを買う？ 2021年のベストVRヘッドセット\n",
            "ドコモのスマートフォンを振り返る 日本最初のXperiaとGalaxyから独自モデルまで：ITmedia Mobile 20周年特別企画（1/4 ページ） -\n",
            "SlackやMicrosoft Teamsなどプラットフォームをまたいでチャットできる企業向けメッセージサービス「Mio」\n",
            "『ファーミングシミュレーター 22』でオリーブを育ててわかった、オリーブオイルを作るまでのたいへんさ\n",
            "国立科学博物館を陰で支えるすごい女性職員がいた…知られざる「レジェンド」の正体\n",
            "\n"
          ]
        }
      ]
    },
    {
      "cell_type": "code",
      "source": [
        "print(words)"
      ],
      "metadata": {
        "colab": {
          "base_uri": "https://localhost:8080/"
        },
        "id": "g9xNCZWY807D",
        "outputId": "c80d81a1-1c41-4931-8892-819ceadb96b8"
      },
      "execution_count": 110,
      "outputs": [
        {
          "output_type": "stream",
          "name": "stdout",
          "text": [
            "[]\n"
          ]
        }
      ]
    },
    {
      "cell_type": "code",
      "source": [
        "# 単語のカウント\n",
        "import collections\n",
        "count = collections.Counter(words)\n",
        "# 最も使われている回数が多い単語\n",
        "print(count.most_common(10))"
      ],
      "metadata": {
        "colab": {
          "base_uri": "https://localhost:8080/"
        },
        "id": "Y1P7Vgz-87GO",
        "outputId": "224245ae-2e66-4b9b-d2e2-fc73545d9c40"
      },
      "execution_count": 111,
      "outputs": [
        {
          "output_type": "stream",
          "name": "stdout",
          "text": [
            "[]\n"
          ]
        }
      ]
    },
    {
      "cell_type": "code",
      "source": [
        "# 使用する品詞を絞る\n",
        "mecab = MeCab.Tagger('')\n",
        "node = mecab.parseToNode(news)\n",
        "words = []\n",
        "while node:\n",
        "  hinshi = node.feature.split(\",\")[0]\n",
        "  word = node.surface\n",
        "  if hinshi in ['名詞', '動詞', '形容詞']:\n",
        "    origin = word\n",
        "    words.append(origin)\n",
        "  node = node.next"
      ],
      "metadata": {
        "id": "cnYikHoU_vaJ"
      },
      "execution_count": 125,
      "outputs": []
    },
    {
      "cell_type": "code",
      "source": [
        "print(words)"
      ],
      "metadata": {
        "colab": {
          "base_uri": "https://localhost:8080/"
        },
        "id": "G9koZvP1AXiF",
        "outputId": "eac3a1c6-9d28-4284-c502-7bc0c6979f2e"
      },
      "execution_count": 126,
      "outputs": [
        {
          "output_type": "stream",
          "name": "stdout",
          "text": [
            "['温泉', '入浴', '腸内', '細菌', '変化', '九州', '別府', '研究', '中間', '報告', '毎日', '新聞', 'Yahoo', 'ニュース', 'こども', 'こども', '家庭', '名称', '変更', 'こども', 'こども', '家庭', '反対', '声', '家庭', '安心', 'できる', '居', '場所', 'こと', '自民', '意見', '割れる', 'BuzzFeed', 'Japan', 'Yahoo', 'ニュース', 'こども', 'こども', '家庭', '変更', '自民', '保守', '配慮', '組織', 'こども', '家庭', 'いじめ', '対策', '文科', '共同', '所掌', 'こども', 'こども', '家庭', '名称', '変更', '2021', '年', '12', '月', '15', '英', '感染', '過去', '最多', '7', '万', '8000', '急増', '写真', 'ロイター', '英', '感染', '過去', '最高', '更新', '7', '万', '8千', '変', '異株', '急増', '共同', '通信', 'Yahoo', 'ニュース', '英', '株', '拡大', 'ロンドン', '感染', '40', '％', '2021', '年', '12', '月', '15', '英', '驚異', '広がり', '死亡', '例', '韓国', '防疫', 'パス', '連日', '障害', 'イギリス', 'コロナ', '感染', '過去', '最多', 'ロンドン', '株', '60', '政府', '10', '万', '円', '給付', '指針', '現金', '一括', '給付', '全国', '自治', '体', '通知', '１０', '万', '円', '給付', '現金', '一括', '自治', '体', '進む', '準備', '新型', 'コロナ', '10', '万', '円', '給付', '市', '町', '現金', '一括', '政府', '方針', '転換', '対応', '追わ', '香川', '10', '万', '円', '給付', '指針', 'クーポン', '市長', '転換', '2021', '年', '12', '月', '15', '申請', 'する', 'もらえる', '金', '岸田', '政権', '経済', '政策', '知る', '週刊', '朝日', 'Yahoo', 'ニュース', '赤木', '妻', '不意', '打ち', 'ひきょう', '政府', '森友', '改ざん', '真相', '究明', 'さ', '赤木', '雅子', 'ふざけん', '思う', '公', '文書', '改ざん', '訴訟', '側', '請求', '認め', '転じる', '国', '裁判', '終結', 'MBS', 'ニュース', 'Yahoo', 'ニュース', '対応', '一転', '赤木', '自死', '国', '責任', '鈴木', '大臣', '2021', '年', '12', '月', '15', '首相', '痛恨', '極み', '元', '財務', '職員', '自殺', '赤木', '妻', 'ふざける', '国', '幕引き', '怒り', '森友', '文書', '改ざん', '問題', '週間', '天気', '各地', '雨', '日本', '側', '大雪', '警戒', '週末', '真冬', '寒', '週末', '日本', '側', '1', 'm', '近い', '大雪', 'おそれ', '西', '日本', '雪', '降る', 'ウェザー', 'ニュース', 'Yahoo', 'ニュース', '最強', '寒気', '今週', '大雪', '警戒', '週末', '日本', '側', '1', 'm', '近い', '大雪', 'おそれ', '西', '日本', '雪', '降る', '17', '金', '18', '土', '冬型', '気圧', '配置', '強まる', '日本', '側', 'ふぶき', '大雪', 'おそれ', '交通', '障害', '注意', 'ウェザー', 'マップ', 'Yahoo', 'ニュース', '心理', '安全', '低い', '職場', '空気', '読み', '過ぎる', '部下', '問題', 'ある', 'やる気', '満ち', 'やさしい', '組織', '作る', 'ため', '2', '要素', '即身', '厳しい', '修行', '果て', '涅槃', '目指し', 'ミイラ', 'レビュー', '邪魔', 'なら', 'リング', 'Oura', 'Ring', '3', '世代', 'モデル', 'M', '1', 'グランプリ', '2021', '笑い', '優勝', '予想', 'ユーキ', '特急', '江', '野沢', '愛美', 'DJ', 'KOO', '福士', '奈央', 'SKE', '48', '呂布', 'カルマ', '三', '連', '単', '笑い', 'ナタリー', '特集', 'インタビュー', 'PC', 'ゲーム', '肩', 'せ', '快適', 'プレイ', 'パナソニック', 'SC', 'GN', '01', 'FF', 'XIV', '買う', '2021', '年', 'ベスト', 'VR', 'ヘッドセット', 'ドコモ', 'フォン', '振り返る', '日本', '最初', 'Xperia', 'Galaxy', 'モデル', 'IT', 'media', 'Mobile', '20', '周年', '企画', '1', '4', 'ページ', 'Slack', 'Microsoft', 'Teams', 'プラットフォーム', 'またい', 'チャット', 'できる', '企業', 'メッセージ', 'サービス', 'Mio', 'ファーミング', 'シミュレーター', '22', 'オリーブ', '育て', 'わかっ', 'オリーブ', 'オイル', '作る', '国立', '科学', '博物', '陰', '支える', 'すごい', '女性', '職員', 'い', '知ら', 'レジェンド', '正体']\n"
          ]
        }
      ]
    },
    {
      "cell_type": "code",
      "source": [
        "# グラフで可視化\n",
        "import seaborn as sns\n",
        "import matplotlib.pyplot as plt\n",
        "\n",
        "count = collections.Counter(words)\n",
        "print(count.most_common(20))\n",
        "sns.set(context='talk')\n",
        "fig = plt.subplots(figsize=(8, 8))\n",
        "\n",
        "sns.countplot(y=words, order=[i[0] for i in count.most_common(10)])"
      ],
      "metadata": {
        "colab": {
          "base_uri": "https://localhost:8080/",
          "height": 1000
        },
        "id": "lPYOu19iENcx",
        "outputId": "f1d4882c-e9f8-4434-f6cc-56e4f93c4d61"
      },
      "execution_count": 130,
      "outputs": [
        {
          "output_type": "stream",
          "name": "stdout",
          "text": [
            "[('ニュース', 9), ('こども', 9), ('Yahoo', 7), ('日本', 7), ('家庭', 6), ('2021', 6), ('万', 6), ('年', 5), ('給付', 5), ('側', 5), ('大雪', 5), ('12', 4), ('月', 4), ('15', 4), ('英', 4), ('感染', 4), ('円', 4), ('赤木', 4), ('1', 4), ('変更', 3)]\n"
          ]
        },
        {
          "output_type": "execute_result",
          "data": {
            "text/plain": [
              "<matplotlib.axes._subplots.AxesSubplot at 0x7fa3bc792490>"
            ]
          },
          "metadata": {},
          "execution_count": 130
        },
        {
          "output_type": "stream",
          "name": "stderr",
          "text": [
            "/usr/local/lib/python3.7/dist-packages/matplotlib/backends/backend_agg.py:214: RuntimeWarning: Glyph 12491 missing from current font.\n",
            "  font.set_text(s, 0.0, flags=flags)\n",
            "/usr/local/lib/python3.7/dist-packages/matplotlib/backends/backend_agg.py:214: RuntimeWarning: Glyph 12517 missing from current font.\n",
            "  font.set_text(s, 0.0, flags=flags)\n",
            "/usr/local/lib/python3.7/dist-packages/matplotlib/backends/backend_agg.py:214: RuntimeWarning: Glyph 12540 missing from current font.\n",
            "  font.set_text(s, 0.0, flags=flags)\n",
            "/usr/local/lib/python3.7/dist-packages/matplotlib/backends/backend_agg.py:214: RuntimeWarning: Glyph 12473 missing from current font.\n",
            "  font.set_text(s, 0.0, flags=flags)\n",
            "/usr/local/lib/python3.7/dist-packages/matplotlib/backends/backend_agg.py:214: RuntimeWarning: Glyph 12371 missing from current font.\n",
            "  font.set_text(s, 0.0, flags=flags)\n",
            "/usr/local/lib/python3.7/dist-packages/matplotlib/backends/backend_agg.py:214: RuntimeWarning: Glyph 12393 missing from current font.\n",
            "  font.set_text(s, 0.0, flags=flags)\n",
            "/usr/local/lib/python3.7/dist-packages/matplotlib/backends/backend_agg.py:214: RuntimeWarning: Glyph 12418 missing from current font.\n",
            "  font.set_text(s, 0.0, flags=flags)\n",
            "/usr/local/lib/python3.7/dist-packages/matplotlib/backends/backend_agg.py:214: RuntimeWarning: Glyph 26085 missing from current font.\n",
            "  font.set_text(s, 0.0, flags=flags)\n",
            "/usr/local/lib/python3.7/dist-packages/matplotlib/backends/backend_agg.py:214: RuntimeWarning: Glyph 26412 missing from current font.\n",
            "  font.set_text(s, 0.0, flags=flags)\n",
            "/usr/local/lib/python3.7/dist-packages/matplotlib/backends/backend_agg.py:214: RuntimeWarning: Glyph 23478 missing from current font.\n",
            "  font.set_text(s, 0.0, flags=flags)\n",
            "/usr/local/lib/python3.7/dist-packages/matplotlib/backends/backend_agg.py:214: RuntimeWarning: Glyph 24237 missing from current font.\n",
            "  font.set_text(s, 0.0, flags=flags)\n",
            "/usr/local/lib/python3.7/dist-packages/matplotlib/backends/backend_agg.py:214: RuntimeWarning: Glyph 19975 missing from current font.\n",
            "  font.set_text(s, 0.0, flags=flags)\n",
            "/usr/local/lib/python3.7/dist-packages/matplotlib/backends/backend_agg.py:214: RuntimeWarning: Glyph 24180 missing from current font.\n",
            "  font.set_text(s, 0.0, flags=flags)\n",
            "/usr/local/lib/python3.7/dist-packages/matplotlib/backends/backend_agg.py:214: RuntimeWarning: Glyph 32102 missing from current font.\n",
            "  font.set_text(s, 0.0, flags=flags)\n",
            "/usr/local/lib/python3.7/dist-packages/matplotlib/backends/backend_agg.py:214: RuntimeWarning: Glyph 20184 missing from current font.\n",
            "  font.set_text(s, 0.0, flags=flags)\n",
            "/usr/local/lib/python3.7/dist-packages/matplotlib/backends/backend_agg.py:214: RuntimeWarning: Glyph 20596 missing from current font.\n",
            "  font.set_text(s, 0.0, flags=flags)\n",
            "/usr/local/lib/python3.7/dist-packages/matplotlib/backends/backend_agg.py:183: RuntimeWarning: Glyph 12491 missing from current font.\n",
            "  font.set_text(s, 0, flags=flags)\n",
            "/usr/local/lib/python3.7/dist-packages/matplotlib/backends/backend_agg.py:183: RuntimeWarning: Glyph 12517 missing from current font.\n",
            "  font.set_text(s, 0, flags=flags)\n",
            "/usr/local/lib/python3.7/dist-packages/matplotlib/backends/backend_agg.py:183: RuntimeWarning: Glyph 12540 missing from current font.\n",
            "  font.set_text(s, 0, flags=flags)\n",
            "/usr/local/lib/python3.7/dist-packages/matplotlib/backends/backend_agg.py:183: RuntimeWarning: Glyph 12473 missing from current font.\n",
            "  font.set_text(s, 0, flags=flags)\n",
            "/usr/local/lib/python3.7/dist-packages/matplotlib/backends/backend_agg.py:183: RuntimeWarning: Glyph 12371 missing from current font.\n",
            "  font.set_text(s, 0, flags=flags)\n",
            "/usr/local/lib/python3.7/dist-packages/matplotlib/backends/backend_agg.py:183: RuntimeWarning: Glyph 12393 missing from current font.\n",
            "  font.set_text(s, 0, flags=flags)\n",
            "/usr/local/lib/python3.7/dist-packages/matplotlib/backends/backend_agg.py:183: RuntimeWarning: Glyph 12418 missing from current font.\n",
            "  font.set_text(s, 0, flags=flags)\n",
            "/usr/local/lib/python3.7/dist-packages/matplotlib/backends/backend_agg.py:183: RuntimeWarning: Glyph 26085 missing from current font.\n",
            "  font.set_text(s, 0, flags=flags)\n",
            "/usr/local/lib/python3.7/dist-packages/matplotlib/backends/backend_agg.py:183: RuntimeWarning: Glyph 26412 missing from current font.\n",
            "  font.set_text(s, 0, flags=flags)\n",
            "/usr/local/lib/python3.7/dist-packages/matplotlib/backends/backend_agg.py:183: RuntimeWarning: Glyph 23478 missing from current font.\n",
            "  font.set_text(s, 0, flags=flags)\n",
            "/usr/local/lib/python3.7/dist-packages/matplotlib/backends/backend_agg.py:183: RuntimeWarning: Glyph 24237 missing from current font.\n",
            "  font.set_text(s, 0, flags=flags)\n",
            "/usr/local/lib/python3.7/dist-packages/matplotlib/backends/backend_agg.py:183: RuntimeWarning: Glyph 19975 missing from current font.\n",
            "  font.set_text(s, 0, flags=flags)\n",
            "/usr/local/lib/python3.7/dist-packages/matplotlib/backends/backend_agg.py:183: RuntimeWarning: Glyph 24180 missing from current font.\n",
            "  font.set_text(s, 0, flags=flags)\n",
            "/usr/local/lib/python3.7/dist-packages/matplotlib/backends/backend_agg.py:183: RuntimeWarning: Glyph 32102 missing from current font.\n",
            "  font.set_text(s, 0, flags=flags)\n",
            "/usr/local/lib/python3.7/dist-packages/matplotlib/backends/backend_agg.py:183: RuntimeWarning: Glyph 20184 missing from current font.\n",
            "  font.set_text(s, 0, flags=flags)\n",
            "/usr/local/lib/python3.7/dist-packages/matplotlib/backends/backend_agg.py:183: RuntimeWarning: Glyph 20596 missing from current font.\n",
            "  font.set_text(s, 0, flags=flags)\n"
          ]
        },
        {
          "output_type": "display_data",
          "data": {
            "image/png": "[encoded data removed]",
            "text/plain": [
              "<Figure size 576x576 with 1 Axes>"
            ]
          },
          "metadata": {}
        }
      ]
    }
  ]
}